{
  "nbformat": 4,
  "nbformat_minor": 0,
  "metadata": {
    "kernelspec": {
      "name": "python3",
      "display_name": "Python 3",
      "language": "python"
    },
    "language_info": {
      "name": "python",
      "version": "3.7.6",
      "mimetype": "text/x-python",
      "codemirror_mode": {
        "name": "ipython",
        "version": 3
      },
      "pygments_lexer": "ipython3",
      "nbconvert_exporter": "python",
      "file_extension": ".py"
    },
    "colab": {
      "name": "breast-cancer-comprehensive-analysis.ipynb",
      "provenance": [],
      "include_colab_link": true
    }
  },
  "cells": [
    {
      "cell_type": "markdown",
      "metadata": {
        "id": "view-in-github",
        "colab_type": "text"
      },
      "source": [
        "<a href=\"https://colab.research.google.com/github/prikmm/Breast_Cancer_Detection/blob/master/notebooks/breast-cancer-comprehensive-analysis.ipynb\" target=\"_parent\"><img src=\"https://colab.research.google.com/assets/colab-badge.svg\" alt=\"Open In Colab\"/></a>"
      ]
    },
    {
      "cell_type": "code",
      "metadata": {
        "_uuid": "8f2839f25d086af736a60e9eeb907d3b93b6e0e5",
        "_cell_guid": "b1076dfc-b9ad-4769-8c92-a6c4dae69d19",
        "trusted": true,
        "id": "HMcZ0XlM3_YD",
        "colab": {
          "base_uri": "https://localhost:8080/",
          "height": 36
        },
        "outputId": "e13af927-a000-4474-8d3c-bf8bb90e8bcd"
      },
      "source": [
        "# This Python 3 environment comes with many helpful analytics libraries installed\n",
        "# It is defined by the kaggle/python Docker image: https://github.com/kaggle/docker-python\n",
        "# For example, here's several helpful packages to load\n",
        "\n",
        "import numpy as np # linear algebra\n",
        "import pandas as pd # data processing, CSV file I/O (e.g. pd.read_csv)\n",
        "\n",
        "# Input data files are available in the read-only \"../input/\" directory\n",
        "# For example, running this (by clicking run or pressing Shift+Enter) will list all files under the input directory\n",
        "\n",
        "import os\n",
        "import tarfile\n",
        "import urllib\n",
        "\n",
        "\"\"\"\n",
        "for dirname, _, filenames in os.walk('/kaggle/input'):\n",
        "    for filename in filenames:\n",
        "        print(os.path.join(dirname, filename))\n",
        "\"\"\"\n",
        "\n",
        "# You can write up to 20GB to the current directory (/kaggle/working/) that gets preserved as output when you create a version using \"Save & Run All\" \n",
        "# You can also write temporary files to /kaggle/temp/, but they won't be saved outside of the current session"
      ],
      "execution_count": 1,
      "outputs": [
        {
          "output_type": "execute_result",
          "data": {
            "application/vnd.google.colaboratory.intrinsic+json": {
              "type": "string"
            },
            "text/plain": [
              "\"\\nfor dirname, _, filenames in os.walk('/kaggle/input'):\\n    for filename in filenames:\\n        print(os.path.join(dirname, filename))\\n\""
            ]
          },
          "metadata": {
            "tags": []
          },
          "execution_count": 1
        }
      ]
    },
    {
      "cell_type": "markdown",
      "metadata": {
        "id": "3YPRqSRS3_YY"
      },
      "source": [
        "# Importing Libraries:"
      ]
    },
    {
      "cell_type": "markdown",
      "metadata": {
        "id": "bzAehpZT3_Ya"
      },
      "source": [
        "## Libraries for EDA & Feature-Selection:"
      ]
    },
    {
      "cell_type": "code",
      "metadata": {
        "_kg_hide-output": true,
        "trusted": true,
        "id": "Jz2OYfFH3_Yb",
        "colab": {
          "base_uri": "https://localhost:8080/"
        },
        "outputId": "531edc01-89f9-4c71-f4e6-a396a60a0fca"
      },
      "source": [
        "import matplotlib as mpl\n",
        "import matplotlib.pyplot as plt\n",
        "!pip install seaborn --upgrade\n",
        "import seaborn as sns\n",
        "import plotly.graph_objects as go\n",
        "import plotly.express as px\n",
        "from plotly.subplots import make_subplots\n",
        "!pip install swiftviz\n",
        "import swiftviz as sv\n",
        "!pip install pandas_profiling\n",
        "import pandas_profiling\n",
        "\n",
        "# Feature Selection\n",
        "!pip install ppscore\n",
        "import ppscore as pps"
      ],
      "execution_count": 2,
      "outputs": [
        {
          "output_type": "stream",
          "text": [
            "Requirement already up-to-date: seaborn in /usr/local/lib/python3.6/dist-packages (0.11.1)\n",
            "Requirement already satisfied, skipping upgrade: scipy>=1.0 in /usr/local/lib/python3.6/dist-packages (from seaborn) (1.4.1)\n",
            "Requirement already satisfied, skipping upgrade: matplotlib>=2.2 in /usr/local/lib/python3.6/dist-packages (from seaborn) (3.2.2)\n",
            "Requirement already satisfied, skipping upgrade: pandas>=0.23 in /usr/local/lib/python3.6/dist-packages (from seaborn) (1.1.5)\n",
            "Requirement already satisfied, skipping upgrade: numpy>=1.15 in /usr/local/lib/python3.6/dist-packages (from seaborn) (1.19.5)\n",
            "Requirement already satisfied, skipping upgrade: kiwisolver>=1.0.1 in /usr/local/lib/python3.6/dist-packages (from matplotlib>=2.2->seaborn) (1.3.1)\n",
            "Requirement already satisfied, skipping upgrade: python-dateutil>=2.1 in /usr/local/lib/python3.6/dist-packages (from matplotlib>=2.2->seaborn) (2.8.1)\n",
            "Requirement already satisfied, skipping upgrade: pyparsing!=2.0.4,!=2.1.2,!=2.1.6,>=2.0.1 in /usr/local/lib/python3.6/dist-packages (from matplotlib>=2.2->seaborn) (2.4.7)\n",
            "Requirement already satisfied, skipping upgrade: cycler>=0.10 in /usr/local/lib/python3.6/dist-packages (from matplotlib>=2.2->seaborn) (0.10.0)\n",
            "Requirement already satisfied, skipping upgrade: pytz>=2017.2 in /usr/local/lib/python3.6/dist-packages (from pandas>=0.23->seaborn) (2018.9)\n",
            "Requirement already satisfied, skipping upgrade: six>=1.5 in /usr/local/lib/python3.6/dist-packages (from python-dateutil>=2.1->matplotlib>=2.2->seaborn) (1.15.0)\n",
            "Collecting swiftviz\n",
            "  Downloading https://files.pythonhosted.org/packages/b6/69/8e3861126cc4fa2907ffa62aa45dea2918453bb8f8b69f9c44a4d3479ec8/swiftviz-0.0.1-py3-none-any.whl\n",
            "Requirement already satisfied: matplotlib in /usr/local/lib/python3.6/dist-packages (from swiftviz) (3.2.2)\n",
            "Requirement already satisfied: pandas in /usr/local/lib/python3.6/dist-packages (from swiftviz) (1.1.5)\n",
            "Requirement already satisfied: seaborn in /usr/local/lib/python3.6/dist-packages (from swiftviz) (0.11.1)\n",
            "Requirement already satisfied: plotly in /usr/local/lib/python3.6/dist-packages (from swiftviz) (4.4.1)\n",
            "Requirement already satisfied: numpy in /usr/local/lib/python3.6/dist-packages (from swiftviz) (1.19.5)\n",
            "Requirement already satisfied: python-dateutil>=2.1 in /usr/local/lib/python3.6/dist-packages (from matplotlib->swiftviz) (2.8.1)\n",
            "Requirement already satisfied: kiwisolver>=1.0.1 in /usr/local/lib/python3.6/dist-packages (from matplotlib->swiftviz) (1.3.1)\n",
            "Requirement already satisfied: pyparsing!=2.0.4,!=2.1.2,!=2.1.6,>=2.0.1 in /usr/local/lib/python3.6/dist-packages (from matplotlib->swiftviz) (2.4.7)\n",
            "Requirement already satisfied: cycler>=0.10 in /usr/local/lib/python3.6/dist-packages (from matplotlib->swiftviz) (0.10.0)\n",
            "Requirement already satisfied: pytz>=2017.2 in /usr/local/lib/python3.6/dist-packages (from pandas->swiftviz) (2018.9)\n",
            "Requirement already satisfied: scipy>=1.0 in /usr/local/lib/python3.6/dist-packages (from seaborn->swiftviz) (1.4.1)\n",
            "Requirement already satisfied: six in /usr/local/lib/python3.6/dist-packages (from plotly->swiftviz) (1.15.0)\n",
            "Requirement already satisfied: retrying>=1.3.3 in /usr/local/lib/python3.6/dist-packages (from plotly->swiftviz) (1.3.3)\n",
            "Installing collected packages: swiftviz\n",
            "Successfully installed swiftviz-0.0.1\n",
            "Requirement already satisfied: pandas_profiling in /usr/local/lib/python3.6/dist-packages (1.4.1)\n",
            "Requirement already satisfied: matplotlib>=1.4 in /usr/local/lib/python3.6/dist-packages (from pandas_profiling) (3.2.2)\n",
            "Requirement already satisfied: six>=1.9 in /usr/local/lib/python3.6/dist-packages (from pandas_profiling) (1.15.0)\n",
            "Requirement already satisfied: pandas>=0.19 in /usr/local/lib/python3.6/dist-packages (from pandas_profiling) (1.1.5)\n",
            "Requirement already satisfied: jinja2>=2.8 in /usr/local/lib/python3.6/dist-packages (from pandas_profiling) (2.11.2)\n",
            "Requirement already satisfied: cycler>=0.10 in /usr/local/lib/python3.6/dist-packages (from matplotlib>=1.4->pandas_profiling) (0.10.0)\n",
            "Requirement already satisfied: python-dateutil>=2.1 in /usr/local/lib/python3.6/dist-packages (from matplotlib>=1.4->pandas_profiling) (2.8.1)\n",
            "Requirement already satisfied: kiwisolver>=1.0.1 in /usr/local/lib/python3.6/dist-packages (from matplotlib>=1.4->pandas_profiling) (1.3.1)\n",
            "Requirement already satisfied: pyparsing!=2.0.4,!=2.1.2,!=2.1.6,>=2.0.1 in /usr/local/lib/python3.6/dist-packages (from matplotlib>=1.4->pandas_profiling) (2.4.7)\n",
            "Requirement already satisfied: numpy>=1.11 in /usr/local/lib/python3.6/dist-packages (from matplotlib>=1.4->pandas_profiling) (1.19.5)\n",
            "Requirement already satisfied: pytz>=2017.2 in /usr/local/lib/python3.6/dist-packages (from pandas>=0.19->pandas_profiling) (2018.9)\n",
            "Requirement already satisfied: MarkupSafe>=0.23 in /usr/local/lib/python3.6/dist-packages (from jinja2>=2.8->pandas_profiling) (1.1.1)\n",
            "Collecting ppscore\n",
            "\u001b[?25l  Downloading https://files.pythonhosted.org/packages/f7/25/5d7bc56240da13ef3be08ca4b6c61747d3ca3f8db649e67d97016a0629c8/ppscore-1.2.0.tar.gz (47kB)\n",
            "\u001b[K     |████████████████████████████████| 51kB 2.5MB/s \n",
            "\u001b[?25hRequirement already satisfied: pandas<2.0.0,>=1.0.0 in /usr/local/lib/python3.6/dist-packages (from ppscore) (1.1.5)\n",
            "Requirement already satisfied: scikit-learn<1.0.0,>=0.20.2 in /usr/local/lib/python3.6/dist-packages (from ppscore) (0.22.2.post1)\n",
            "Requirement already satisfied: python-dateutil>=2.7.3 in /usr/local/lib/python3.6/dist-packages (from pandas<2.0.0,>=1.0.0->ppscore) (2.8.1)\n",
            "Requirement already satisfied: pytz>=2017.2 in /usr/local/lib/python3.6/dist-packages (from pandas<2.0.0,>=1.0.0->ppscore) (2018.9)\n",
            "Requirement already satisfied: numpy>=1.15.4 in /usr/local/lib/python3.6/dist-packages (from pandas<2.0.0,>=1.0.0->ppscore) (1.19.5)\n",
            "Requirement already satisfied: scipy>=0.17.0 in /usr/local/lib/python3.6/dist-packages (from scikit-learn<1.0.0,>=0.20.2->ppscore) (1.4.1)\n",
            "Requirement already satisfied: joblib>=0.11 in /usr/local/lib/python3.6/dist-packages (from scikit-learn<1.0.0,>=0.20.2->ppscore) (1.0.0)\n",
            "Requirement already satisfied: six>=1.5 in /usr/local/lib/python3.6/dist-packages (from python-dateutil>=2.7.3->pandas<2.0.0,>=1.0.0->ppscore) (1.15.0)\n",
            "Building wheels for collected packages: ppscore\n",
            "  Building wheel for ppscore (setup.py) ... \u001b[?25l\u001b[?25hdone\n",
            "  Created wheel for ppscore: filename=ppscore-1.2.0-py2.py3-none-any.whl size=13050 sha256=a05d761b6136ef910c8007f23957281e1674540b238be8cf26cc9c338badf575\n",
            "  Stored in directory: /root/.cache/pip/wheels/50/cc/8f/d0da07e4ec4e7a4c4cf32aee9057e4d1c318de910543b4684e\n",
            "Successfully built ppscore\n",
            "Installing collected packages: ppscore\n",
            "Successfully installed ppscore-1.2.0\n"
          ],
          "name": "stdout"
        }
      ]
    },
    {
      "cell_type": "code",
      "metadata": {
        "trusted": true,
        "id": "xkG0REI33_Yd",
        "colab": {
          "base_uri": "https://localhost:8080/",
          "height": 36
        },
        "outputId": "2c96c7c9-6e03-4f5b-f886-25949e6ee7de"
      },
      "source": [
        "sns.__version__"
      ],
      "execution_count": 3,
      "outputs": [
        {
          "output_type": "execute_result",
          "data": {
            "application/vnd.google.colaboratory.intrinsic+json": {
              "type": "string"
            },
            "text/plain": [
              "'0.11.1'"
            ]
          },
          "metadata": {
            "tags": []
          },
          "execution_count": 3
        }
      ]
    },
    {
      "cell_type": "markdown",
      "metadata": {
        "id": "kAemYjaD3_Yf"
      },
      "source": [
        "## Libraries for Preprocessing & Model-Selection:"
      ]
    },
    {
      "cell_type": "code",
      "metadata": {
        "_kg_hide-output": true,
        "trusted": true,
        "id": "qIZauE_z3_Yg",
        "colab": {
          "base_uri": "https://localhost:8080/"
        },
        "outputId": "20215bd2-5066-479c-9494-ee5d5bfb216e"
      },
      "source": [
        "# Library for pre-processing:\n",
        "from sklearn.preprocessing import StandardScaler\n",
        "\n",
        "# Library for Dimensionality-Reduction:\n",
        "from sklearn.decomposition import PCA\n",
        "\n",
        "# Libraries for modelling\n",
        "from sklearn.linear_model import LogisticRegression\n",
        "from sklearn.tree import DecisionTreeClassifier\n",
        "from sklearn.ensemble import RandomForestClassifier, AdaBoostClassifier, GradientBoostingClassifier, VotingClassifier\n",
        "from xgboost import XGBClassifier\n",
        "from lightgbm import LGBMClassifier\n",
        "!pip install catboost\n",
        "from catboost import CatBoostClassifier\n",
        "\n",
        "\n",
        "# Model Selection:\n",
        "from sklearn.pipeline import Pipeline as Pipeline\n",
        "from sklearn.model_selection import GridSearchCV, train_test_split\n",
        "from sklearn.base import BaseEstimator, TransformerMixin\n",
        "from sklearn.base import clone\n",
        "\n",
        "# Libraries for model evaluaton \n",
        "from sklearn.model_selection import GridSearchCV, RandomizedSearchCV, cross_val_predict\n",
        "\n",
        "# --CLASSIFICATION:\n",
        "from sklearn import metrics\n",
        "\n",
        "# Library for plotting confusion matrix\n",
        "from mlxtend.plotting import plot_confusion_matrix\n",
        "\n",
        "# Miscellanous libraries\n",
        "from IPython.display import display"
      ],
      "execution_count": 4,
      "outputs": [
        {
          "output_type": "stream",
          "text": [
            "Collecting catboost\n",
            "\u001b[?25l  Downloading https://files.pythonhosted.org/packages/20/37/bc4e0ddc30c07a96482abf1de7ed1ca54e59bba2026a33bca6d2ef286e5b/catboost-0.24.4-cp36-none-manylinux1_x86_64.whl (65.7MB)\n",
            "\u001b[K     |████████████████████████████████| 65.8MB 55kB/s \n",
            "\u001b[?25hRequirement already satisfied: six in /usr/local/lib/python3.6/dist-packages (from catboost) (1.15.0)\n",
            "Requirement already satisfied: graphviz in /usr/local/lib/python3.6/dist-packages (from catboost) (0.10.1)\n",
            "Requirement already satisfied: numpy>=1.16.0 in /usr/local/lib/python3.6/dist-packages (from catboost) (1.19.5)\n",
            "Requirement already satisfied: pandas>=0.24.0 in /usr/local/lib/python3.6/dist-packages (from catboost) (1.1.5)\n",
            "Requirement already satisfied: matplotlib in /usr/local/lib/python3.6/dist-packages (from catboost) (3.2.2)\n",
            "Requirement already satisfied: scipy in /usr/local/lib/python3.6/dist-packages (from catboost) (1.4.1)\n",
            "Requirement already satisfied: plotly in /usr/local/lib/python3.6/dist-packages (from catboost) (4.4.1)\n",
            "Requirement already satisfied: python-dateutil>=2.7.3 in /usr/local/lib/python3.6/dist-packages (from pandas>=0.24.0->catboost) (2.8.1)\n",
            "Requirement already satisfied: pytz>=2017.2 in /usr/local/lib/python3.6/dist-packages (from pandas>=0.24.0->catboost) (2018.9)\n",
            "Requirement already satisfied: kiwisolver>=1.0.1 in /usr/local/lib/python3.6/dist-packages (from matplotlib->catboost) (1.3.1)\n",
            "Requirement already satisfied: pyparsing!=2.0.4,!=2.1.2,!=2.1.6,>=2.0.1 in /usr/local/lib/python3.6/dist-packages (from matplotlib->catboost) (2.4.7)\n",
            "Requirement already satisfied: cycler>=0.10 in /usr/local/lib/python3.6/dist-packages (from matplotlib->catboost) (0.10.0)\n",
            "Requirement already satisfied: retrying>=1.3.3 in /usr/local/lib/python3.6/dist-packages (from plotly->catboost) (1.3.3)\n",
            "Installing collected packages: catboost\n",
            "Successfully installed catboost-0.24.4\n"
          ],
          "name": "stdout"
        }
      ]
    },
    {
      "cell_type": "markdown",
      "metadata": {
        "id": "3inBT6Il3_Yh"
      },
      "source": [
        "## Loading Dataset:"
      ]
    },
    {
      "cell_type": "code",
      "metadata": {
        "_uuid": "d629ff2d2480ee46fbb7e2d37f6b5fab8052498a",
        "_cell_guid": "79c7e3d0-c299-4dcb-8224-4455121ee9b0",
        "trusted": true,
        "id": "Ar2TAVuU3_Yj",
        "colab": {
          "base_uri": "https://localhost:8080/",
          "height": 244
        },
        "outputId": "42ea9653-4cb3-4dea-fda6-894a9ddb8a0c"
      },
      "source": [
        "bc_df = pd.read_csv('https://raw.githubusercontent.com/prikmm/Breast_Cancer_Detection/master/data/data.csv')\n",
        "bc_df.head()"
      ],
      "execution_count": 5,
      "outputs": [
        {
          "output_type": "execute_result",
          "data": {
            "text/html": [
              "<div>\n",
              "<style scoped>\n",
              "    .dataframe tbody tr th:only-of-type {\n",
              "        vertical-align: middle;\n",
              "    }\n",
              "\n",
              "    .dataframe tbody tr th {\n",
              "        vertical-align: top;\n",
              "    }\n",
              "\n",
              "    .dataframe thead th {\n",
              "        text-align: right;\n",
              "    }\n",
              "</style>\n",
              "<table border=\"1\" class=\"dataframe\">\n",
              "  <thead>\n",
              "    <tr style=\"text-align: right;\">\n",
              "      <th></th>\n",
              "      <th>id</th>\n",
              "      <th>diagnosis</th>\n",
              "      <th>radius_mean</th>\n",
              "      <th>texture_mean</th>\n",
              "      <th>perimeter_mean</th>\n",
              "      <th>area_mean</th>\n",
              "      <th>smoothness_mean</th>\n",
              "      <th>compactness_mean</th>\n",
              "      <th>concavity_mean</th>\n",
              "      <th>concave points_mean</th>\n",
              "      <th>symmetry_mean</th>\n",
              "      <th>fractal_dimension_mean</th>\n",
              "      <th>radius_se</th>\n",
              "      <th>texture_se</th>\n",
              "      <th>perimeter_se</th>\n",
              "      <th>area_se</th>\n",
              "      <th>smoothness_se</th>\n",
              "      <th>compactness_se</th>\n",
              "      <th>concavity_se</th>\n",
              "      <th>concave points_se</th>\n",
              "      <th>symmetry_se</th>\n",
              "      <th>fractal_dimension_se</th>\n",
              "      <th>radius_worst</th>\n",
              "      <th>texture_worst</th>\n",
              "      <th>perimeter_worst</th>\n",
              "      <th>area_worst</th>\n",
              "      <th>smoothness_worst</th>\n",
              "      <th>compactness_worst</th>\n",
              "      <th>concavity_worst</th>\n",
              "      <th>concave points_worst</th>\n",
              "      <th>symmetry_worst</th>\n",
              "      <th>fractal_dimension_worst</th>\n",
              "      <th>Unnamed: 32</th>\n",
              "    </tr>\n",
              "  </thead>\n",
              "  <tbody>\n",
              "    <tr>\n",
              "      <th>0</th>\n",
              "      <td>842302</td>\n",
              "      <td>M</td>\n",
              "      <td>17.99</td>\n",
              "      <td>10.38</td>\n",
              "      <td>122.80</td>\n",
              "      <td>1001.0</td>\n",
              "      <td>0.11840</td>\n",
              "      <td>0.27760</td>\n",
              "      <td>0.3001</td>\n",
              "      <td>0.14710</td>\n",
              "      <td>0.2419</td>\n",
              "      <td>0.07871</td>\n",
              "      <td>1.0950</td>\n",
              "      <td>0.9053</td>\n",
              "      <td>8.589</td>\n",
              "      <td>153.40</td>\n",
              "      <td>0.006399</td>\n",
              "      <td>0.04904</td>\n",
              "      <td>0.05373</td>\n",
              "      <td>0.01587</td>\n",
              "      <td>0.03003</td>\n",
              "      <td>0.006193</td>\n",
              "      <td>25.38</td>\n",
              "      <td>17.33</td>\n",
              "      <td>184.60</td>\n",
              "      <td>2019.0</td>\n",
              "      <td>0.1622</td>\n",
              "      <td>0.6656</td>\n",
              "      <td>0.7119</td>\n",
              "      <td>0.2654</td>\n",
              "      <td>0.4601</td>\n",
              "      <td>0.11890</td>\n",
              "      <td>NaN</td>\n",
              "    </tr>\n",
              "    <tr>\n",
              "      <th>1</th>\n",
              "      <td>842517</td>\n",
              "      <td>M</td>\n",
              "      <td>20.57</td>\n",
              "      <td>17.77</td>\n",
              "      <td>132.90</td>\n",
              "      <td>1326.0</td>\n",
              "      <td>0.08474</td>\n",
              "      <td>0.07864</td>\n",
              "      <td>0.0869</td>\n",
              "      <td>0.07017</td>\n",
              "      <td>0.1812</td>\n",
              "      <td>0.05667</td>\n",
              "      <td>0.5435</td>\n",
              "      <td>0.7339</td>\n",
              "      <td>3.398</td>\n",
              "      <td>74.08</td>\n",
              "      <td>0.005225</td>\n",
              "      <td>0.01308</td>\n",
              "      <td>0.01860</td>\n",
              "      <td>0.01340</td>\n",
              "      <td>0.01389</td>\n",
              "      <td>0.003532</td>\n",
              "      <td>24.99</td>\n",
              "      <td>23.41</td>\n",
              "      <td>158.80</td>\n",
              "      <td>1956.0</td>\n",
              "      <td>0.1238</td>\n",
              "      <td>0.1866</td>\n",
              "      <td>0.2416</td>\n",
              "      <td>0.1860</td>\n",
              "      <td>0.2750</td>\n",
              "      <td>0.08902</td>\n",
              "      <td>NaN</td>\n",
              "    </tr>\n",
              "    <tr>\n",
              "      <th>2</th>\n",
              "      <td>84300903</td>\n",
              "      <td>M</td>\n",
              "      <td>19.69</td>\n",
              "      <td>21.25</td>\n",
              "      <td>130.00</td>\n",
              "      <td>1203.0</td>\n",
              "      <td>0.10960</td>\n",
              "      <td>0.15990</td>\n",
              "      <td>0.1974</td>\n",
              "      <td>0.12790</td>\n",
              "      <td>0.2069</td>\n",
              "      <td>0.05999</td>\n",
              "      <td>0.7456</td>\n",
              "      <td>0.7869</td>\n",
              "      <td>4.585</td>\n",
              "      <td>94.03</td>\n",
              "      <td>0.006150</td>\n",
              "      <td>0.04006</td>\n",
              "      <td>0.03832</td>\n",
              "      <td>0.02058</td>\n",
              "      <td>0.02250</td>\n",
              "      <td>0.004571</td>\n",
              "      <td>23.57</td>\n",
              "      <td>25.53</td>\n",
              "      <td>152.50</td>\n",
              "      <td>1709.0</td>\n",
              "      <td>0.1444</td>\n",
              "      <td>0.4245</td>\n",
              "      <td>0.4504</td>\n",
              "      <td>0.2430</td>\n",
              "      <td>0.3613</td>\n",
              "      <td>0.08758</td>\n",
              "      <td>NaN</td>\n",
              "    </tr>\n",
              "    <tr>\n",
              "      <th>3</th>\n",
              "      <td>84348301</td>\n",
              "      <td>M</td>\n",
              "      <td>11.42</td>\n",
              "      <td>20.38</td>\n",
              "      <td>77.58</td>\n",
              "      <td>386.1</td>\n",
              "      <td>0.14250</td>\n",
              "      <td>0.28390</td>\n",
              "      <td>0.2414</td>\n",
              "      <td>0.10520</td>\n",
              "      <td>0.2597</td>\n",
              "      <td>0.09744</td>\n",
              "      <td>0.4956</td>\n",
              "      <td>1.1560</td>\n",
              "      <td>3.445</td>\n",
              "      <td>27.23</td>\n",
              "      <td>0.009110</td>\n",
              "      <td>0.07458</td>\n",
              "      <td>0.05661</td>\n",
              "      <td>0.01867</td>\n",
              "      <td>0.05963</td>\n",
              "      <td>0.009208</td>\n",
              "      <td>14.91</td>\n",
              "      <td>26.50</td>\n",
              "      <td>98.87</td>\n",
              "      <td>567.7</td>\n",
              "      <td>0.2098</td>\n",
              "      <td>0.8663</td>\n",
              "      <td>0.6869</td>\n",
              "      <td>0.2575</td>\n",
              "      <td>0.6638</td>\n",
              "      <td>0.17300</td>\n",
              "      <td>NaN</td>\n",
              "    </tr>\n",
              "    <tr>\n",
              "      <th>4</th>\n",
              "      <td>84358402</td>\n",
              "      <td>M</td>\n",
              "      <td>20.29</td>\n",
              "      <td>14.34</td>\n",
              "      <td>135.10</td>\n",
              "      <td>1297.0</td>\n",
              "      <td>0.10030</td>\n",
              "      <td>0.13280</td>\n",
              "      <td>0.1980</td>\n",
              "      <td>0.10430</td>\n",
              "      <td>0.1809</td>\n",
              "      <td>0.05883</td>\n",
              "      <td>0.7572</td>\n",
              "      <td>0.7813</td>\n",
              "      <td>5.438</td>\n",
              "      <td>94.44</td>\n",
              "      <td>0.011490</td>\n",
              "      <td>0.02461</td>\n",
              "      <td>0.05688</td>\n",
              "      <td>0.01885</td>\n",
              "      <td>0.01756</td>\n",
              "      <td>0.005115</td>\n",
              "      <td>22.54</td>\n",
              "      <td>16.67</td>\n",
              "      <td>152.20</td>\n",
              "      <td>1575.0</td>\n",
              "      <td>0.1374</td>\n",
              "      <td>0.2050</td>\n",
              "      <td>0.4000</td>\n",
              "      <td>0.1625</td>\n",
              "      <td>0.2364</td>\n",
              "      <td>0.07678</td>\n",
              "      <td>NaN</td>\n",
              "    </tr>\n",
              "  </tbody>\n",
              "</table>\n",
              "</div>"
            ],
            "text/plain": [
              "         id diagnosis  ...  fractal_dimension_worst  Unnamed: 32\n",
              "0    842302         M  ...                  0.11890          NaN\n",
              "1    842517         M  ...                  0.08902          NaN\n",
              "2  84300903         M  ...                  0.08758          NaN\n",
              "3  84348301         M  ...                  0.17300          NaN\n",
              "4  84358402         M  ...                  0.07678          NaN\n",
              "\n",
              "[5 rows x 33 columns]"
            ]
          },
          "metadata": {
            "tags": []
          },
          "execution_count": 5
        }
      ]
    },
    {
      "cell_type": "code",
      "metadata": {
        "trusted": true,
        "id": "mHw8Z_4F3_Yk",
        "colab": {
          "base_uri": "https://localhost:8080/"
        },
        "outputId": "3eaf7965-3e32-4de6-aa50-846a8e910f3a"
      },
      "source": [
        "bc_df.columns"
      ],
      "execution_count": 6,
      "outputs": [
        {
          "output_type": "execute_result",
          "data": {
            "text/plain": [
              "Index(['id', 'diagnosis', 'radius_mean', 'texture_mean', 'perimeter_mean',\n",
              "       'area_mean', 'smoothness_mean', 'compactness_mean', 'concavity_mean',\n",
              "       'concave points_mean', 'symmetry_mean', 'fractal_dimension_mean',\n",
              "       'radius_se', 'texture_se', 'perimeter_se', 'area_se', 'smoothness_se',\n",
              "       'compactness_se', 'concavity_se', 'concave points_se', 'symmetry_se',\n",
              "       'fractal_dimension_se', 'radius_worst', 'texture_worst',\n",
              "       'perimeter_worst', 'area_worst', 'smoothness_worst',\n",
              "       'compactness_worst', 'concavity_worst', 'concave points_worst',\n",
              "       'symmetry_worst', 'fractal_dimension_worst', 'Unnamed: 32'],\n",
              "      dtype='object')"
            ]
          },
          "metadata": {
            "tags": []
          },
          "execution_count": 6
        }
      ]
    },
    {
      "cell_type": "code",
      "metadata": {
        "trusted": true,
        "id": "HLrs_tio3_Yl"
      },
      "source": [
        "bc_df.drop(columns=['id', 'Unnamed: 32'], inplace=True)"
      ],
      "execution_count": 7,
      "outputs": []
    },
    {
      "cell_type": "markdown",
      "metadata": {
        "id": "BeNSoJFc3_Yo"
      },
      "source": [
        "The data we have consists of mean, standard deviation, and worst measure (average of top 3 maximum values). From this we can already judge that, features will have very strong correlation between them. But, Let's check for null values."
      ]
    },
    {
      "cell_type": "code",
      "metadata": {
        "trusted": true,
        "id": "oUCq-TPM3_Yo",
        "colab": {
          "base_uri": "https://localhost:8080/"
        },
        "outputId": "64c8bc6a-66e5-48d9-a094-a5609ed37c3b"
      },
      "source": [
        "bc_df.info()"
      ],
      "execution_count": 8,
      "outputs": [
        {
          "output_type": "stream",
          "text": [
            "<class 'pandas.core.frame.DataFrame'>\n",
            "RangeIndex: 569 entries, 0 to 568\n",
            "Data columns (total 31 columns):\n",
            " #   Column                   Non-Null Count  Dtype  \n",
            "---  ------                   --------------  -----  \n",
            " 0   diagnosis                569 non-null    object \n",
            " 1   radius_mean              569 non-null    float64\n",
            " 2   texture_mean             569 non-null    float64\n",
            " 3   perimeter_mean           569 non-null    float64\n",
            " 4   area_mean                569 non-null    float64\n",
            " 5   smoothness_mean          569 non-null    float64\n",
            " 6   compactness_mean         569 non-null    float64\n",
            " 7   concavity_mean           569 non-null    float64\n",
            " 8   concave points_mean      569 non-null    float64\n",
            " 9   symmetry_mean            569 non-null    float64\n",
            " 10  fractal_dimension_mean   569 non-null    float64\n",
            " 11  radius_se                569 non-null    float64\n",
            " 12  texture_se               569 non-null    float64\n",
            " 13  perimeter_se             569 non-null    float64\n",
            " 14  area_se                  569 non-null    float64\n",
            " 15  smoothness_se            569 non-null    float64\n",
            " 16  compactness_se           569 non-null    float64\n",
            " 17  concavity_se             569 non-null    float64\n",
            " 18  concave points_se        569 non-null    float64\n",
            " 19  symmetry_se              569 non-null    float64\n",
            " 20  fractal_dimension_se     569 non-null    float64\n",
            " 21  radius_worst             569 non-null    float64\n",
            " 22  texture_worst            569 non-null    float64\n",
            " 23  perimeter_worst          569 non-null    float64\n",
            " 24  area_worst               569 non-null    float64\n",
            " 25  smoothness_worst         569 non-null    float64\n",
            " 26  compactness_worst        569 non-null    float64\n",
            " 27  concavity_worst          569 non-null    float64\n",
            " 28  concave points_worst     569 non-null    float64\n",
            " 29  symmetry_worst           569 non-null    float64\n",
            " 30  fractal_dimension_worst  569 non-null    float64\n",
            "dtypes: float64(30), object(1)\n",
            "memory usage: 137.9+ KB\n"
          ],
          "name": "stdout"
        }
      ]
    },
    {
      "cell_type": "markdown",
      "metadata": {
        "id": "WSe85Cd33_Yp"
      },
      "source": [
        "### No Null-values & every column has the correct data-type. All good!"
      ]
    },
    {
      "cell_type": "code",
      "metadata": {
        "trusted": true,
        "id": "Gj7m5hS33_Yp",
        "colab": {
          "base_uri": "https://localhost:8080/",
          "height": 990
        },
        "outputId": "41c5e02a-6735-4438-c7e6-d2f7a156a48c"
      },
      "source": [
        "report = bc_df.describe().T\n",
        "report"
      ],
      "execution_count": 9,
      "outputs": [
        {
          "output_type": "execute_result",
          "data": {
            "text/html": [
              "<div>\n",
              "<style scoped>\n",
              "    .dataframe tbody tr th:only-of-type {\n",
              "        vertical-align: middle;\n",
              "    }\n",
              "\n",
              "    .dataframe tbody tr th {\n",
              "        vertical-align: top;\n",
              "    }\n",
              "\n",
              "    .dataframe thead th {\n",
              "        text-align: right;\n",
              "    }\n",
              "</style>\n",
              "<table border=\"1\" class=\"dataframe\">\n",
              "  <thead>\n",
              "    <tr style=\"text-align: right;\">\n",
              "      <th></th>\n",
              "      <th>count</th>\n",
              "      <th>mean</th>\n",
              "      <th>std</th>\n",
              "      <th>min</th>\n",
              "      <th>25%</th>\n",
              "      <th>50%</th>\n",
              "      <th>75%</th>\n",
              "      <th>max</th>\n",
              "    </tr>\n",
              "  </thead>\n",
              "  <tbody>\n",
              "    <tr>\n",
              "      <th>radius_mean</th>\n",
              "      <td>569.0</td>\n",
              "      <td>14.127292</td>\n",
              "      <td>3.524049</td>\n",
              "      <td>6.981000</td>\n",
              "      <td>11.700000</td>\n",
              "      <td>13.370000</td>\n",
              "      <td>15.780000</td>\n",
              "      <td>28.11000</td>\n",
              "    </tr>\n",
              "    <tr>\n",
              "      <th>texture_mean</th>\n",
              "      <td>569.0</td>\n",
              "      <td>19.289649</td>\n",
              "      <td>4.301036</td>\n",
              "      <td>9.710000</td>\n",
              "      <td>16.170000</td>\n",
              "      <td>18.840000</td>\n",
              "      <td>21.800000</td>\n",
              "      <td>39.28000</td>\n",
              "    </tr>\n",
              "    <tr>\n",
              "      <th>perimeter_mean</th>\n",
              "      <td>569.0</td>\n",
              "      <td>91.969033</td>\n",
              "      <td>24.298981</td>\n",
              "      <td>43.790000</td>\n",
              "      <td>75.170000</td>\n",
              "      <td>86.240000</td>\n",
              "      <td>104.100000</td>\n",
              "      <td>188.50000</td>\n",
              "    </tr>\n",
              "    <tr>\n",
              "      <th>area_mean</th>\n",
              "      <td>569.0</td>\n",
              "      <td>654.889104</td>\n",
              "      <td>351.914129</td>\n",
              "      <td>143.500000</td>\n",
              "      <td>420.300000</td>\n",
              "      <td>551.100000</td>\n",
              "      <td>782.700000</td>\n",
              "      <td>2501.00000</td>\n",
              "    </tr>\n",
              "    <tr>\n",
              "      <th>smoothness_mean</th>\n",
              "      <td>569.0</td>\n",
              "      <td>0.096360</td>\n",
              "      <td>0.014064</td>\n",
              "      <td>0.052630</td>\n",
              "      <td>0.086370</td>\n",
              "      <td>0.095870</td>\n",
              "      <td>0.105300</td>\n",
              "      <td>0.16340</td>\n",
              "    </tr>\n",
              "    <tr>\n",
              "      <th>compactness_mean</th>\n",
              "      <td>569.0</td>\n",
              "      <td>0.104341</td>\n",
              "      <td>0.052813</td>\n",
              "      <td>0.019380</td>\n",
              "      <td>0.064920</td>\n",
              "      <td>0.092630</td>\n",
              "      <td>0.130400</td>\n",
              "      <td>0.34540</td>\n",
              "    </tr>\n",
              "    <tr>\n",
              "      <th>concavity_mean</th>\n",
              "      <td>569.0</td>\n",
              "      <td>0.088799</td>\n",
              "      <td>0.079720</td>\n",
              "      <td>0.000000</td>\n",
              "      <td>0.029560</td>\n",
              "      <td>0.061540</td>\n",
              "      <td>0.130700</td>\n",
              "      <td>0.42680</td>\n",
              "    </tr>\n",
              "    <tr>\n",
              "      <th>concave points_mean</th>\n",
              "      <td>569.0</td>\n",
              "      <td>0.048919</td>\n",
              "      <td>0.038803</td>\n",
              "      <td>0.000000</td>\n",
              "      <td>0.020310</td>\n",
              "      <td>0.033500</td>\n",
              "      <td>0.074000</td>\n",
              "      <td>0.20120</td>\n",
              "    </tr>\n",
              "    <tr>\n",
              "      <th>symmetry_mean</th>\n",
              "      <td>569.0</td>\n",
              "      <td>0.181162</td>\n",
              "      <td>0.027414</td>\n",
              "      <td>0.106000</td>\n",
              "      <td>0.161900</td>\n",
              "      <td>0.179200</td>\n",
              "      <td>0.195700</td>\n",
              "      <td>0.30400</td>\n",
              "    </tr>\n",
              "    <tr>\n",
              "      <th>fractal_dimension_mean</th>\n",
              "      <td>569.0</td>\n",
              "      <td>0.062798</td>\n",
              "      <td>0.007060</td>\n",
              "      <td>0.049960</td>\n",
              "      <td>0.057700</td>\n",
              "      <td>0.061540</td>\n",
              "      <td>0.066120</td>\n",
              "      <td>0.09744</td>\n",
              "    </tr>\n",
              "    <tr>\n",
              "      <th>radius_se</th>\n",
              "      <td>569.0</td>\n",
              "      <td>0.405172</td>\n",
              "      <td>0.277313</td>\n",
              "      <td>0.111500</td>\n",
              "      <td>0.232400</td>\n",
              "      <td>0.324200</td>\n",
              "      <td>0.478900</td>\n",
              "      <td>2.87300</td>\n",
              "    </tr>\n",
              "    <tr>\n",
              "      <th>texture_se</th>\n",
              "      <td>569.0</td>\n",
              "      <td>1.216853</td>\n",
              "      <td>0.551648</td>\n",
              "      <td>0.360200</td>\n",
              "      <td>0.833900</td>\n",
              "      <td>1.108000</td>\n",
              "      <td>1.474000</td>\n",
              "      <td>4.88500</td>\n",
              "    </tr>\n",
              "    <tr>\n",
              "      <th>perimeter_se</th>\n",
              "      <td>569.0</td>\n",
              "      <td>2.866059</td>\n",
              "      <td>2.021855</td>\n",
              "      <td>0.757000</td>\n",
              "      <td>1.606000</td>\n",
              "      <td>2.287000</td>\n",
              "      <td>3.357000</td>\n",
              "      <td>21.98000</td>\n",
              "    </tr>\n",
              "    <tr>\n",
              "      <th>area_se</th>\n",
              "      <td>569.0</td>\n",
              "      <td>40.337079</td>\n",
              "      <td>45.491006</td>\n",
              "      <td>6.802000</td>\n",
              "      <td>17.850000</td>\n",
              "      <td>24.530000</td>\n",
              "      <td>45.190000</td>\n",
              "      <td>542.20000</td>\n",
              "    </tr>\n",
              "    <tr>\n",
              "      <th>smoothness_se</th>\n",
              "      <td>569.0</td>\n",
              "      <td>0.007041</td>\n",
              "      <td>0.003003</td>\n",
              "      <td>0.001713</td>\n",
              "      <td>0.005169</td>\n",
              "      <td>0.006380</td>\n",
              "      <td>0.008146</td>\n",
              "      <td>0.03113</td>\n",
              "    </tr>\n",
              "    <tr>\n",
              "      <th>compactness_se</th>\n",
              "      <td>569.0</td>\n",
              "      <td>0.025478</td>\n",
              "      <td>0.017908</td>\n",
              "      <td>0.002252</td>\n",
              "      <td>0.013080</td>\n",
              "      <td>0.020450</td>\n",
              "      <td>0.032450</td>\n",
              "      <td>0.13540</td>\n",
              "    </tr>\n",
              "    <tr>\n",
              "      <th>concavity_se</th>\n",
              "      <td>569.0</td>\n",
              "      <td>0.031894</td>\n",
              "      <td>0.030186</td>\n",
              "      <td>0.000000</td>\n",
              "      <td>0.015090</td>\n",
              "      <td>0.025890</td>\n",
              "      <td>0.042050</td>\n",
              "      <td>0.39600</td>\n",
              "    </tr>\n",
              "    <tr>\n",
              "      <th>concave points_se</th>\n",
              "      <td>569.0</td>\n",
              "      <td>0.011796</td>\n",
              "      <td>0.006170</td>\n",
              "      <td>0.000000</td>\n",
              "      <td>0.007638</td>\n",
              "      <td>0.010930</td>\n",
              "      <td>0.014710</td>\n",
              "      <td>0.05279</td>\n",
              "    </tr>\n",
              "    <tr>\n",
              "      <th>symmetry_se</th>\n",
              "      <td>569.0</td>\n",
              "      <td>0.020542</td>\n",
              "      <td>0.008266</td>\n",
              "      <td>0.007882</td>\n",
              "      <td>0.015160</td>\n",
              "      <td>0.018730</td>\n",
              "      <td>0.023480</td>\n",
              "      <td>0.07895</td>\n",
              "    </tr>\n",
              "    <tr>\n",
              "      <th>fractal_dimension_se</th>\n",
              "      <td>569.0</td>\n",
              "      <td>0.003795</td>\n",
              "      <td>0.002646</td>\n",
              "      <td>0.000895</td>\n",
              "      <td>0.002248</td>\n",
              "      <td>0.003187</td>\n",
              "      <td>0.004558</td>\n",
              "      <td>0.02984</td>\n",
              "    </tr>\n",
              "    <tr>\n",
              "      <th>radius_worst</th>\n",
              "      <td>569.0</td>\n",
              "      <td>16.269190</td>\n",
              "      <td>4.833242</td>\n",
              "      <td>7.930000</td>\n",
              "      <td>13.010000</td>\n",
              "      <td>14.970000</td>\n",
              "      <td>18.790000</td>\n",
              "      <td>36.04000</td>\n",
              "    </tr>\n",
              "    <tr>\n",
              "      <th>texture_worst</th>\n",
              "      <td>569.0</td>\n",
              "      <td>25.677223</td>\n",
              "      <td>6.146258</td>\n",
              "      <td>12.020000</td>\n",
              "      <td>21.080000</td>\n",
              "      <td>25.410000</td>\n",
              "      <td>29.720000</td>\n",
              "      <td>49.54000</td>\n",
              "    </tr>\n",
              "    <tr>\n",
              "      <th>perimeter_worst</th>\n",
              "      <td>569.0</td>\n",
              "      <td>107.261213</td>\n",
              "      <td>33.602542</td>\n",
              "      <td>50.410000</td>\n",
              "      <td>84.110000</td>\n",
              "      <td>97.660000</td>\n",
              "      <td>125.400000</td>\n",
              "      <td>251.20000</td>\n",
              "    </tr>\n",
              "    <tr>\n",
              "      <th>area_worst</th>\n",
              "      <td>569.0</td>\n",
              "      <td>880.583128</td>\n",
              "      <td>569.356993</td>\n",
              "      <td>185.200000</td>\n",
              "      <td>515.300000</td>\n",
              "      <td>686.500000</td>\n",
              "      <td>1084.000000</td>\n",
              "      <td>4254.00000</td>\n",
              "    </tr>\n",
              "    <tr>\n",
              "      <th>smoothness_worst</th>\n",
              "      <td>569.0</td>\n",
              "      <td>0.132369</td>\n",
              "      <td>0.022832</td>\n",
              "      <td>0.071170</td>\n",
              "      <td>0.116600</td>\n",
              "      <td>0.131300</td>\n",
              "      <td>0.146000</td>\n",
              "      <td>0.22260</td>\n",
              "    </tr>\n",
              "    <tr>\n",
              "      <th>compactness_worst</th>\n",
              "      <td>569.0</td>\n",
              "      <td>0.254265</td>\n",
              "      <td>0.157336</td>\n",
              "      <td>0.027290</td>\n",
              "      <td>0.147200</td>\n",
              "      <td>0.211900</td>\n",
              "      <td>0.339100</td>\n",
              "      <td>1.05800</td>\n",
              "    </tr>\n",
              "    <tr>\n",
              "      <th>concavity_worst</th>\n",
              "      <td>569.0</td>\n",
              "      <td>0.272188</td>\n",
              "      <td>0.208624</td>\n",
              "      <td>0.000000</td>\n",
              "      <td>0.114500</td>\n",
              "      <td>0.226700</td>\n",
              "      <td>0.382900</td>\n",
              "      <td>1.25200</td>\n",
              "    </tr>\n",
              "    <tr>\n",
              "      <th>concave points_worst</th>\n",
              "      <td>569.0</td>\n",
              "      <td>0.114606</td>\n",
              "      <td>0.065732</td>\n",
              "      <td>0.000000</td>\n",
              "      <td>0.064930</td>\n",
              "      <td>0.099930</td>\n",
              "      <td>0.161400</td>\n",
              "      <td>0.29100</td>\n",
              "    </tr>\n",
              "    <tr>\n",
              "      <th>symmetry_worst</th>\n",
              "      <td>569.0</td>\n",
              "      <td>0.290076</td>\n",
              "      <td>0.061867</td>\n",
              "      <td>0.156500</td>\n",
              "      <td>0.250400</td>\n",
              "      <td>0.282200</td>\n",
              "      <td>0.317900</td>\n",
              "      <td>0.66380</td>\n",
              "    </tr>\n",
              "    <tr>\n",
              "      <th>fractal_dimension_worst</th>\n",
              "      <td>569.0</td>\n",
              "      <td>0.083946</td>\n",
              "      <td>0.018061</td>\n",
              "      <td>0.055040</td>\n",
              "      <td>0.071460</td>\n",
              "      <td>0.080040</td>\n",
              "      <td>0.092080</td>\n",
              "      <td>0.20750</td>\n",
              "    </tr>\n",
              "  </tbody>\n",
              "</table>\n",
              "</div>"
            ],
            "text/plain": [
              "                         count        mean  ...          75%         max\n",
              "radius_mean              569.0   14.127292  ...    15.780000    28.11000\n",
              "texture_mean             569.0   19.289649  ...    21.800000    39.28000\n",
              "perimeter_mean           569.0   91.969033  ...   104.100000   188.50000\n",
              "area_mean                569.0  654.889104  ...   782.700000  2501.00000\n",
              "smoothness_mean          569.0    0.096360  ...     0.105300     0.16340\n",
              "compactness_mean         569.0    0.104341  ...     0.130400     0.34540\n",
              "concavity_mean           569.0    0.088799  ...     0.130700     0.42680\n",
              "concave points_mean      569.0    0.048919  ...     0.074000     0.20120\n",
              "symmetry_mean            569.0    0.181162  ...     0.195700     0.30400\n",
              "fractal_dimension_mean   569.0    0.062798  ...     0.066120     0.09744\n",
              "radius_se                569.0    0.405172  ...     0.478900     2.87300\n",
              "texture_se               569.0    1.216853  ...     1.474000     4.88500\n",
              "perimeter_se             569.0    2.866059  ...     3.357000    21.98000\n",
              "area_se                  569.0   40.337079  ...    45.190000   542.20000\n",
              "smoothness_se            569.0    0.007041  ...     0.008146     0.03113\n",
              "compactness_se           569.0    0.025478  ...     0.032450     0.13540\n",
              "concavity_se             569.0    0.031894  ...     0.042050     0.39600\n",
              "concave points_se        569.0    0.011796  ...     0.014710     0.05279\n",
              "symmetry_se              569.0    0.020542  ...     0.023480     0.07895\n",
              "fractal_dimension_se     569.0    0.003795  ...     0.004558     0.02984\n",
              "radius_worst             569.0   16.269190  ...    18.790000    36.04000\n",
              "texture_worst            569.0   25.677223  ...    29.720000    49.54000\n",
              "perimeter_worst          569.0  107.261213  ...   125.400000   251.20000\n",
              "area_worst               569.0  880.583128  ...  1084.000000  4254.00000\n",
              "smoothness_worst         569.0    0.132369  ...     0.146000     0.22260\n",
              "compactness_worst        569.0    0.254265  ...     0.339100     1.05800\n",
              "concavity_worst          569.0    0.272188  ...     0.382900     1.25200\n",
              "concave points_worst     569.0    0.114606  ...     0.161400     0.29100\n",
              "symmetry_worst           569.0    0.290076  ...     0.317900     0.66380\n",
              "fractal_dimension_worst  569.0    0.083946  ...     0.092080     0.20750\n",
              "\n",
              "[30 rows x 8 columns]"
            ]
          },
          "metadata": {
            "tags": []
          },
          "execution_count": 9
        }
      ]
    },
    {
      "cell_type": "code",
      "metadata": {
        "trusted": true,
        "id": "gsVSIdHK3_Yq",
        "colab": {
          "base_uri": "https://localhost:8080/"
        },
        "outputId": "176ba3e7-502c-4806-8022-cdbd13094862"
      },
      "source": [
        "features = np.array(report.index)\n",
        "target = ['diagnosis']\n",
        "features"
      ],
      "execution_count": 10,
      "outputs": [
        {
          "output_type": "execute_result",
          "data": {
            "text/plain": [
              "array(['radius_mean', 'texture_mean', 'perimeter_mean', 'area_mean',\n",
              "       'smoothness_mean', 'compactness_mean', 'concavity_mean',\n",
              "       'concave points_mean', 'symmetry_mean', 'fractal_dimension_mean',\n",
              "       'radius_se', 'texture_se', 'perimeter_se', 'area_se',\n",
              "       'smoothness_se', 'compactness_se', 'concavity_se',\n",
              "       'concave points_se', 'symmetry_se', 'fractal_dimension_se',\n",
              "       'radius_worst', 'texture_worst', 'perimeter_worst', 'area_worst',\n",
              "       'smoothness_worst', 'compactness_worst', 'concavity_worst',\n",
              "       'concave points_worst', 'symmetry_worst',\n",
              "       'fractal_dimension_worst'], dtype=object)"
            ]
          },
          "metadata": {
            "tags": []
          },
          "execution_count": 10
        }
      ]
    },
    {
      "cell_type": "markdown",
      "metadata": {
        "id": "hro3wWf93_Yr"
      },
      "source": [
        "# Data Exploration:"
      ]
    },
    {
      "cell_type": "markdown",
      "metadata": {
        "id": "A9WGpJhl3_Ys"
      },
      "source": [
        "#### Setting default custom palette:"
      ]
    },
    {
      "cell_type": "code",
      "metadata": {
        "trusted": true,
        "id": "aOwxj1uk3_Ys"
      },
      "source": [
        "cust_palette = sv.CustomPalette()\n",
        "cust_palette.display_palette('Dark2')\n",
        "cust_palette.set_default_custom_palette('Dark2')"
      ],
      "execution_count": 11,
      "outputs": []
    },
    {
      "cell_type": "code",
      "metadata": {
        "trusted": true,
        "id": "cnanJJUG3_Ys",
        "colab": {
          "base_uri": "https://localhost:8080/"
        },
        "outputId": "a3e85ff3-c4cf-4630-85c1-863b5e5f41ec"
      },
      "source": [
        "print(bc_df[\"diagnosis\"].value_counts())\n",
        "sns.countplot(x=bc_df[\"diagnosis\"]);"
      ],
      "execution_count": 12,
      "outputs": [
        {
          "output_type": "stream",
          "text": [
            "B    357\n",
            "M    212\n",
            "Name: diagnosis, dtype: int64\n"
          ],
          "name": "stdout"
        }
      ]
    },
    {
      "cell_type": "code",
      "metadata": {
        "trusted": true,
        "id": "MISVhdEc3_Yu"
      },
      "source": [
        "axis = sv.Plotter.row_col_merge(rows=2, cols=5)"
      ],
      "execution_count": 13,
      "outputs": []
    },
    {
      "cell_type": "markdown",
      "metadata": {
        "id": "0WESz6aK3_Yv"
      },
      "source": [
        "### Distributions of Means:"
      ]
    },
    {
      "cell_type": "code",
      "metadata": {
        "trusted": true,
        "id": "xOoVvd2w3_Yv"
      },
      "source": [
        "cust_palette.set_default_custom_palette('dark')\n",
        "axis_var_list = list(zip(axis, features[:10]))\n",
        "\n",
        "fig, axs = plt.subplots(figsize=(30, 10), nrows=2, ncols=5)\n",
        "\n",
        "for axis_tup, var in axis_var_list:\n",
        "    row = axis_tup[0]\n",
        "    col = axis_tup[1]\n",
        "    sns.histplot(data=bc_df, x=var, ax=axs[row, col], hue=\"diagnosis\")"
      ],
      "execution_count": 14,
      "outputs": []
    },
    {
      "cell_type": "markdown",
      "metadata": {
        "id": "-VZAS66g3_Yv"
      },
      "source": [
        "### Distribution of Standard Errors:"
      ]
    },
    {
      "cell_type": "code",
      "metadata": {
        "trusted": true,
        "id": "9xg1LgSC3_Yw"
      },
      "source": [
        "cust_palette.set_default_custom_palette('Set1')\n",
        "axis_var_list = list(zip(axis, features[10:20]))\n",
        "\n",
        "fig, axs = plt.subplots(figsize=(30, 10), nrows=2, ncols=5)\n",
        "\n",
        "for axis_tup, var in axis_var_list:\n",
        "    row = axis_tup[0]\n",
        "    col = axis_tup[1]\n",
        "    sns.histplot(data=bc_df, x=var, ax=axs[row, col], hue=\"diagnosis\")"
      ],
      "execution_count": 15,
      "outputs": []
    },
    {
      "cell_type": "markdown",
      "metadata": {
        "id": "pxi7Tl7Z3_Yw"
      },
      "source": [
        "### Distributions of Worst:"
      ]
    },
    {
      "cell_type": "code",
      "metadata": {
        "trusted": true,
        "id": "KELt8trx3_Yw"
      },
      "source": [
        "cust_palette.set_default_custom_palette('Set2')\n",
        "axis_var_list = list(zip(axis, features[20:]))\n",
        "\n",
        "fig, axs = plt.subplots(figsize=(30, 10), nrows=2, ncols=5)\n",
        "\n",
        "for axis_tup, var in axis_var_list:\n",
        "    row = axis_tup[0]\n",
        "    col = axis_tup[1]\n",
        "    sns.histplot(data=bc_df, x=var, ax=axs[row, col], hue=\"diagnosis\")"
      ],
      "execution_count": 16,
      "outputs": []
    },
    {
      "cell_type": "markdown",
      "metadata": {
        "id": "9JTqGRvD3_Yx"
      },
      "source": [
        "## Outlier Analysis:"
      ]
    },
    {
      "cell_type": "markdown",
      "metadata": {
        "id": "qKsOfM8t3_Yy"
      },
      "source": [
        "### Remember: \n",
        "Larger the distance between the two medians('M' & 'B'), more useful the feature.<br>\n",
        "This is because larger the distance between the medians<br>\n",
        "means larger the distance between clusters, this will make the clusters to be more distinguishable."
      ]
    },
    {
      "cell_type": "code",
      "metadata": {
        "trusted": true,
        "id": "hbyf9-j03_Yy"
      },
      "source": [
        "outlier_handler = sv.OutlierAnalysis(bc_df)\n",
        "scaled_bc_df = outlier_handler.data_scaler(list(features))"
      ],
      "execution_count": 17,
      "outputs": []
    },
    {
      "cell_type": "markdown",
      "metadata": {
        "id": "llVD7db63_Yz"
      },
      "source": [
        "### Outlier Report For Means:"
      ]
    },
    {
      "cell_type": "code",
      "metadata": {
        "trusted": true,
        "id": "L8Y3nZ1s3_Yz",
        "colab": {
          "base_uri": "https://localhost:8080/",
          "height": 605
        },
        "outputId": "4626c088-64b7-4c4c-b567-0212c2a5c3ff"
      },
      "source": [
        "cust_palette.set_default_custom_palette('ocean_r')\n",
        "data_mean = pd.melt(pd.concat([scaled_bc_df[features[:10]], bc_df[target]], axis=1), \n",
        "                    id_vars=\"diagnosis\",\n",
        "                    var_name=\"features\",\n",
        "                    value_name='value')\n",
        "\n",
        "fig, axs = plt.subplots(figsize=(30, 10))\n",
        "\n",
        "display(sns.violinplot(data=data_mean, x=\"features\", y=\"value\", hue=\"diagnosis\", inner=\"quart\",\n",
        "                       split=True));\n",
        "\n",
        "mean_outlier_report = outlier_handler.OutlierReport(list(features[:10]))\n",
        "mean_outlier_report"
      ],
      "execution_count": 18,
      "outputs": [
        {
          "output_type": "display_data",
          "data": {
            "text/plain": [
              "<matplotlib.axes._subplots.AxesSubplot at 0x7f702cb0d0f0>"
            ]
          },
          "metadata": {
            "tags": []
          }
        },
        {
          "output_type": "execute_result",
          "data": {
            "text/html": [
              "<div>\n",
              "<style scoped>\n",
              "    .dataframe tbody tr th:only-of-type {\n",
              "        vertical-align: middle;\n",
              "    }\n",
              "\n",
              "    .dataframe tbody tr th {\n",
              "        vertical-align: top;\n",
              "    }\n",
              "\n",
              "    .dataframe thead th {\n",
              "        text-align: right;\n",
              "    }\n",
              "</style>\n",
              "<table border=\"1\" class=\"dataframe\">\n",
              "  <thead>\n",
              "    <tr style=\"text-align: right;\">\n",
              "      <th></th>\n",
              "      <th>radius_mean</th>\n",
              "      <th>texture_mean</th>\n",
              "      <th>perimeter_mean</th>\n",
              "      <th>area_mean</th>\n",
              "      <th>smoothness_mean</th>\n",
              "      <th>compactness_mean</th>\n",
              "      <th>concavity_mean</th>\n",
              "      <th>concave points_mean</th>\n",
              "      <th>symmetry_mean</th>\n",
              "      <th>fractal_dimension_mean</th>\n",
              "    </tr>\n",
              "  </thead>\n",
              "  <tbody>\n",
              "    <tr>\n",
              "      <th>median</th>\n",
              "      <td>13.370</td>\n",
              "      <td>18.840</td>\n",
              "      <td>86.240</td>\n",
              "      <td>551.1</td>\n",
              "      <td>0.095870</td>\n",
              "      <td>0.09263</td>\n",
              "      <td>0.06154</td>\n",
              "      <td>0.033500</td>\n",
              "      <td>0.1792</td>\n",
              "      <td>0.06154</td>\n",
              "    </tr>\n",
              "    <tr>\n",
              "      <th>min</th>\n",
              "      <td>6.981</td>\n",
              "      <td>9.710</td>\n",
              "      <td>43.790</td>\n",
              "      <td>143.5</td>\n",
              "      <td>0.052630</td>\n",
              "      <td>0.01938</td>\n",
              "      <td>0.00000</td>\n",
              "      <td>0.000000</td>\n",
              "      <td>0.1060</td>\n",
              "      <td>0.04996</td>\n",
              "    </tr>\n",
              "    <tr>\n",
              "      <th>max</th>\n",
              "      <td>28.110</td>\n",
              "      <td>39.280</td>\n",
              "      <td>188.500</td>\n",
              "      <td>2501.0</td>\n",
              "      <td>0.163400</td>\n",
              "      <td>0.34540</td>\n",
              "      <td>0.42680</td>\n",
              "      <td>0.201200</td>\n",
              "      <td>0.3040</td>\n",
              "      <td>0.09744</td>\n",
              "    </tr>\n",
              "    <tr>\n",
              "      <th>25%</th>\n",
              "      <td>11.700</td>\n",
              "      <td>16.170</td>\n",
              "      <td>75.170</td>\n",
              "      <td>420.3</td>\n",
              "      <td>0.086370</td>\n",
              "      <td>0.06492</td>\n",
              "      <td>0.02956</td>\n",
              "      <td>0.020310</td>\n",
              "      <td>0.1619</td>\n",
              "      <td>0.05770</td>\n",
              "    </tr>\n",
              "    <tr>\n",
              "      <th>75%</th>\n",
              "      <td>15.780</td>\n",
              "      <td>21.800</td>\n",
              "      <td>104.100</td>\n",
              "      <td>782.7</td>\n",
              "      <td>0.105300</td>\n",
              "      <td>0.13040</td>\n",
              "      <td>0.13070</td>\n",
              "      <td>0.074000</td>\n",
              "      <td>0.1957</td>\n",
              "      <td>0.06612</td>\n",
              "    </tr>\n",
              "    <tr>\n",
              "      <th>IQR</th>\n",
              "      <td>4.080</td>\n",
              "      <td>5.630</td>\n",
              "      <td>28.930</td>\n",
              "      <td>362.4</td>\n",
              "      <td>0.018930</td>\n",
              "      <td>0.06548</td>\n",
              "      <td>0.10114</td>\n",
              "      <td>0.053690</td>\n",
              "      <td>0.0338</td>\n",
              "      <td>0.00842</td>\n",
              "    </tr>\n",
              "    <tr>\n",
              "      <th>Left Whisker Limit</th>\n",
              "      <td>5.580</td>\n",
              "      <td>7.725</td>\n",
              "      <td>31.775</td>\n",
              "      <td>-123.3</td>\n",
              "      <td>0.057975</td>\n",
              "      <td>-0.03330</td>\n",
              "      <td>-0.12215</td>\n",
              "      <td>-0.060225</td>\n",
              "      <td>0.1112</td>\n",
              "      <td>0.04507</td>\n",
              "    </tr>\n",
              "    <tr>\n",
              "      <th>Right Whisker Limit</th>\n",
              "      <td>21.900</td>\n",
              "      <td>30.245</td>\n",
              "      <td>147.495</td>\n",
              "      <td>1326.3</td>\n",
              "      <td>0.133695</td>\n",
              "      <td>0.22862</td>\n",
              "      <td>0.28241</td>\n",
              "      <td>0.154535</td>\n",
              "      <td>0.2464</td>\n",
              "      <td>0.07875</td>\n",
              "    </tr>\n",
              "    <tr>\n",
              "      <th>No.of Left Outliers</th>\n",
              "      <td>0.000</td>\n",
              "      <td>0.000</td>\n",
              "      <td>0.000</td>\n",
              "      <td>0.0</td>\n",
              "      <td>1.000000</td>\n",
              "      <td>0.00000</td>\n",
              "      <td>0.00000</td>\n",
              "      <td>0.000000</td>\n",
              "      <td>1.0000</td>\n",
              "      <td>0.00000</td>\n",
              "    </tr>\n",
              "    <tr>\n",
              "      <th>No.of Right Outliers</th>\n",
              "      <td>14.000</td>\n",
              "      <td>7.000</td>\n",
              "      <td>13.000</td>\n",
              "      <td>25.0</td>\n",
              "      <td>5.000000</td>\n",
              "      <td>16.00000</td>\n",
              "      <td>18.00000</td>\n",
              "      <td>10.000000</td>\n",
              "      <td>14.0000</td>\n",
              "      <td>15.00000</td>\n",
              "    </tr>\n",
              "    <tr>\n",
              "      <th>Total Outliers</th>\n",
              "      <td>14.000</td>\n",
              "      <td>7.000</td>\n",
              "      <td>13.000</td>\n",
              "      <td>25.0</td>\n",
              "      <td>6.000000</td>\n",
              "      <td>16.00000</td>\n",
              "      <td>18.00000</td>\n",
              "      <td>10.000000</td>\n",
              "      <td>15.0000</td>\n",
              "      <td>15.00000</td>\n",
              "    </tr>\n",
              "  </tbody>\n",
              "</table>\n",
              "</div>"
            ],
            "text/plain": [
              "                      radius_mean  ...  fractal_dimension_mean\n",
              "median                     13.370  ...                 0.06154\n",
              "min                         6.981  ...                 0.04996\n",
              "max                        28.110  ...                 0.09744\n",
              "25%                        11.700  ...                 0.05770\n",
              "75%                        15.780  ...                 0.06612\n",
              "IQR                         4.080  ...                 0.00842\n",
              "Left Whisker Limit          5.580  ...                 0.04507\n",
              "Right Whisker Limit        21.900  ...                 0.07875\n",
              "No.of Left Outliers         0.000  ...                 0.00000\n",
              "No.of Right Outliers       14.000  ...                15.00000\n",
              "Total Outliers             14.000  ...                15.00000\n",
              "\n",
              "[11 rows x 10 columns]"
            ]
          },
          "metadata": {
            "tags": []
          },
          "execution_count": 18
        }
      ]
    },
    {
      "cell_type": "markdown",
      "metadata": {
        "id": "05_pX_f33_Y0"
      },
      "source": [
        "The table shown is for the entire dataset, and the plots are shown to visualize w.r.t \"diagnosis\"."
      ]
    },
    {
      "cell_type": "markdown",
      "metadata": {
        "trusted": true,
        "id": "_5H1I_FH3_Y0"
      },
      "source": [
        "### Outlier Report for Standard Errors:"
      ]
    },
    {
      "cell_type": "code",
      "metadata": {
        "trusted": true,
        "id": "ukFk9_by3_Y1",
        "colab": {
          "base_uri": "https://localhost:8080/",
          "height": 585
        },
        "outputId": "41f64c3a-0f3b-4448-b4ad-49bb3851fed2"
      },
      "source": [
        "data_se = pd.melt(pd.concat([scaled_bc_df[features[10:20]], bc_df[target]], axis=1), \n",
        "                    id_vars=\"diagnosis\",\n",
        "                    var_name=\"features\",\n",
        "                    value_name='value')\n",
        "\n",
        "fig, axs = plt.subplots(figsize=(30, 10))\n",
        "\n",
        "display(sns.violinplot(data=data_se, x=\"features\", y=\"value\", hue=\"diagnosis\", inner=\"quart\",\n",
        "                       split=True, palette=sns.color_palette('Dark2')[3:6:2]));\n",
        "\n",
        "se_outlier_report = outlier_handler.OutlierReport(list(features[10:20]))\n",
        "se_outlier_report"
      ],
      "execution_count": 19,
      "outputs": [
        {
          "output_type": "display_data",
          "data": {
            "text/plain": [
              "<matplotlib.axes._subplots.AxesSubplot at 0x7f702c96d940>"
            ]
          },
          "metadata": {
            "tags": []
          }
        },
        {
          "output_type": "execute_result",
          "data": {
            "text/html": [
              "<div>\n",
              "<style scoped>\n",
              "    .dataframe tbody tr th:only-of-type {\n",
              "        vertical-align: middle;\n",
              "    }\n",
              "\n",
              "    .dataframe tbody tr th {\n",
              "        vertical-align: top;\n",
              "    }\n",
              "\n",
              "    .dataframe thead th {\n",
              "        text-align: right;\n",
              "    }\n",
              "</style>\n",
              "<table border=\"1\" class=\"dataframe\">\n",
              "  <thead>\n",
              "    <tr style=\"text-align: right;\">\n",
              "      <th></th>\n",
              "      <th>radius_se</th>\n",
              "      <th>texture_se</th>\n",
              "      <th>perimeter_se</th>\n",
              "      <th>area_se</th>\n",
              "      <th>smoothness_se</th>\n",
              "      <th>compactness_se</th>\n",
              "      <th>concavity_se</th>\n",
              "      <th>concave points_se</th>\n",
              "      <th>symmetry_se</th>\n",
              "      <th>fractal_dimension_se</th>\n",
              "    </tr>\n",
              "  </thead>\n",
              "  <tbody>\n",
              "    <tr>\n",
              "      <th>median</th>\n",
              "      <td>0.32420</td>\n",
              "      <td>1.10800</td>\n",
              "      <td>2.2870</td>\n",
              "      <td>24.530</td>\n",
              "      <td>0.006380</td>\n",
              "      <td>0.020450</td>\n",
              "      <td>0.02589</td>\n",
              "      <td>0.010930</td>\n",
              "      <td>0.018730</td>\n",
              "      <td>0.003187</td>\n",
              "    </tr>\n",
              "    <tr>\n",
              "      <th>min</th>\n",
              "      <td>0.11150</td>\n",
              "      <td>0.36020</td>\n",
              "      <td>0.7570</td>\n",
              "      <td>6.802</td>\n",
              "      <td>0.001713</td>\n",
              "      <td>0.002252</td>\n",
              "      <td>0.00000</td>\n",
              "      <td>0.000000</td>\n",
              "      <td>0.007882</td>\n",
              "      <td>0.000895</td>\n",
              "    </tr>\n",
              "    <tr>\n",
              "      <th>max</th>\n",
              "      <td>2.87300</td>\n",
              "      <td>4.88500</td>\n",
              "      <td>21.9800</td>\n",
              "      <td>542.200</td>\n",
              "      <td>0.031130</td>\n",
              "      <td>0.135400</td>\n",
              "      <td>0.39600</td>\n",
              "      <td>0.052790</td>\n",
              "      <td>0.078950</td>\n",
              "      <td>0.029840</td>\n",
              "    </tr>\n",
              "    <tr>\n",
              "      <th>25%</th>\n",
              "      <td>0.23240</td>\n",
              "      <td>0.83390</td>\n",
              "      <td>1.6060</td>\n",
              "      <td>17.850</td>\n",
              "      <td>0.005169</td>\n",
              "      <td>0.013080</td>\n",
              "      <td>0.01509</td>\n",
              "      <td>0.007638</td>\n",
              "      <td>0.015160</td>\n",
              "      <td>0.002248</td>\n",
              "    </tr>\n",
              "    <tr>\n",
              "      <th>75%</th>\n",
              "      <td>0.47890</td>\n",
              "      <td>1.47400</td>\n",
              "      <td>3.3570</td>\n",
              "      <td>45.190</td>\n",
              "      <td>0.008146</td>\n",
              "      <td>0.032450</td>\n",
              "      <td>0.04205</td>\n",
              "      <td>0.014710</td>\n",
              "      <td>0.023480</td>\n",
              "      <td>0.004558</td>\n",
              "    </tr>\n",
              "    <tr>\n",
              "      <th>IQR</th>\n",
              "      <td>0.24650</td>\n",
              "      <td>0.64010</td>\n",
              "      <td>1.7510</td>\n",
              "      <td>27.340</td>\n",
              "      <td>0.002977</td>\n",
              "      <td>0.019370</td>\n",
              "      <td>0.02696</td>\n",
              "      <td>0.007072</td>\n",
              "      <td>0.008320</td>\n",
              "      <td>0.002310</td>\n",
              "    </tr>\n",
              "    <tr>\n",
              "      <th>Left Whisker Limit</th>\n",
              "      <td>-0.13735</td>\n",
              "      <td>-0.12625</td>\n",
              "      <td>-1.0205</td>\n",
              "      <td>-23.160</td>\n",
              "      <td>0.000704</td>\n",
              "      <td>-0.015975</td>\n",
              "      <td>-0.02535</td>\n",
              "      <td>-0.002970</td>\n",
              "      <td>0.002680</td>\n",
              "      <td>-0.001217</td>\n",
              "    </tr>\n",
              "    <tr>\n",
              "      <th>Right Whisker Limit</th>\n",
              "      <td>0.84865</td>\n",
              "      <td>2.43415</td>\n",
              "      <td>5.9835</td>\n",
              "      <td>86.200</td>\n",
              "      <td>0.012611</td>\n",
              "      <td>0.061505</td>\n",
              "      <td>0.08249</td>\n",
              "      <td>0.025318</td>\n",
              "      <td>0.035960</td>\n",
              "      <td>0.008023</td>\n",
              "    </tr>\n",
              "    <tr>\n",
              "      <th>No.of Left Outliers</th>\n",
              "      <td>0.00000</td>\n",
              "      <td>0.00000</td>\n",
              "      <td>0.0000</td>\n",
              "      <td>0.000</td>\n",
              "      <td>0.000000</td>\n",
              "      <td>0.000000</td>\n",
              "      <td>0.00000</td>\n",
              "      <td>0.000000</td>\n",
              "      <td>0.000000</td>\n",
              "      <td>0.000000</td>\n",
              "    </tr>\n",
              "    <tr>\n",
              "      <th>No.of Right Outliers</th>\n",
              "      <td>38.00000</td>\n",
              "      <td>20.00000</td>\n",
              "      <td>38.0000</td>\n",
              "      <td>65.000</td>\n",
              "      <td>30.000000</td>\n",
              "      <td>28.000000</td>\n",
              "      <td>22.00000</td>\n",
              "      <td>19.000000</td>\n",
              "      <td>27.000000</td>\n",
              "      <td>28.000000</td>\n",
              "    </tr>\n",
              "    <tr>\n",
              "      <th>Total Outliers</th>\n",
              "      <td>38.00000</td>\n",
              "      <td>20.00000</td>\n",
              "      <td>38.0000</td>\n",
              "      <td>65.000</td>\n",
              "      <td>30.000000</td>\n",
              "      <td>28.000000</td>\n",
              "      <td>22.00000</td>\n",
              "      <td>19.000000</td>\n",
              "      <td>27.000000</td>\n",
              "      <td>28.000000</td>\n",
              "    </tr>\n",
              "  </tbody>\n",
              "</table>\n",
              "</div>"
            ],
            "text/plain": [
              "                      radius_se  texture_se  ...  symmetry_se  fractal_dimension_se\n",
              "median                  0.32420     1.10800  ...     0.018730              0.003187\n",
              "min                     0.11150     0.36020  ...     0.007882              0.000895\n",
              "max                     2.87300     4.88500  ...     0.078950              0.029840\n",
              "25%                     0.23240     0.83390  ...     0.015160              0.002248\n",
              "75%                     0.47890     1.47400  ...     0.023480              0.004558\n",
              "IQR                     0.24650     0.64010  ...     0.008320              0.002310\n",
              "Left Whisker Limit     -0.13735    -0.12625  ...     0.002680             -0.001217\n",
              "Right Whisker Limit     0.84865     2.43415  ...     0.035960              0.008023\n",
              "No.of Left Outliers     0.00000     0.00000  ...     0.000000              0.000000\n",
              "No.of Right Outliers   38.00000    20.00000  ...    27.000000             28.000000\n",
              "Total Outliers         38.00000    20.00000  ...    27.000000             28.000000\n",
              "\n",
              "[11 rows x 10 columns]"
            ]
          },
          "metadata": {
            "tags": []
          },
          "execution_count": 19
        }
      ]
    },
    {
      "cell_type": "markdown",
      "metadata": {
        "id": "3nzroN9G3_Y1"
      },
      "source": [
        "### Outlier Report for Worst:"
      ]
    },
    {
      "cell_type": "code",
      "metadata": {
        "trusted": true,
        "id": "I9HW1Q4M3_Y1",
        "colab": {
          "base_uri": "https://localhost:8080/",
          "height": 605
        },
        "outputId": "6b97af52-f158-49b6-d5c3-c1ca01067951"
      },
      "source": [
        "data_worst = pd.melt(pd.concat([scaled_bc_df[features[20:30]], bc_df[target]], axis=1), \n",
        "                    id_vars=\"diagnosis\",\n",
        "                    var_name=\"features\",\n",
        "                    value_name='value')\n",
        "\n",
        "fig, axs = plt.subplots(figsize=(30, 10))\n",
        "\n",
        "display(sns.violinplot(data=data_worst, x=\"features\", y=\"value\", hue=\"diagnosis\", inner=\"quart\",\n",
        "                       split=True, palette=sns.color_palette('viridis')[3:6:2]));\n",
        "\n",
        "worst_outlier_report = outlier_handler.OutlierReport(list(features[20:30]))\n",
        "worst_outlier_report"
      ],
      "execution_count": 20,
      "outputs": [
        {
          "output_type": "display_data",
          "data": {
            "text/plain": [
              "<matplotlib.axes._subplots.AxesSubplot at 0x7f702c853160>"
            ]
          },
          "metadata": {
            "tags": []
          }
        },
        {
          "output_type": "execute_result",
          "data": {
            "text/html": [
              "<div>\n",
              "<style scoped>\n",
              "    .dataframe tbody tr th:only-of-type {\n",
              "        vertical-align: middle;\n",
              "    }\n",
              "\n",
              "    .dataframe tbody tr th {\n",
              "        vertical-align: top;\n",
              "    }\n",
              "\n",
              "    .dataframe thead th {\n",
              "        text-align: right;\n",
              "    }\n",
              "</style>\n",
              "<table border=\"1\" class=\"dataframe\">\n",
              "  <thead>\n",
              "    <tr style=\"text-align: right;\">\n",
              "      <th></th>\n",
              "      <th>radius_worst</th>\n",
              "      <th>texture_worst</th>\n",
              "      <th>perimeter_worst</th>\n",
              "      <th>area_worst</th>\n",
              "      <th>smoothness_worst</th>\n",
              "      <th>compactness_worst</th>\n",
              "      <th>concavity_worst</th>\n",
              "      <th>concave points_worst</th>\n",
              "      <th>symmetry_worst</th>\n",
              "      <th>fractal_dimension_worst</th>\n",
              "    </tr>\n",
              "  </thead>\n",
              "  <tbody>\n",
              "    <tr>\n",
              "      <th>median</th>\n",
              "      <td>14.97</td>\n",
              "      <td>25.41</td>\n",
              "      <td>97.660</td>\n",
              "      <td>686.50</td>\n",
              "      <td>0.13130</td>\n",
              "      <td>0.21190</td>\n",
              "      <td>0.2267</td>\n",
              "      <td>0.099930</td>\n",
              "      <td>0.28220</td>\n",
              "      <td>0.08004</td>\n",
              "    </tr>\n",
              "    <tr>\n",
              "      <th>min</th>\n",
              "      <td>7.93</td>\n",
              "      <td>12.02</td>\n",
              "      <td>50.410</td>\n",
              "      <td>185.20</td>\n",
              "      <td>0.07117</td>\n",
              "      <td>0.02729</td>\n",
              "      <td>0.0000</td>\n",
              "      <td>0.000000</td>\n",
              "      <td>0.15650</td>\n",
              "      <td>0.05504</td>\n",
              "    </tr>\n",
              "    <tr>\n",
              "      <th>max</th>\n",
              "      <td>36.04</td>\n",
              "      <td>49.54</td>\n",
              "      <td>251.200</td>\n",
              "      <td>4254.00</td>\n",
              "      <td>0.22260</td>\n",
              "      <td>1.05800</td>\n",
              "      <td>1.2520</td>\n",
              "      <td>0.291000</td>\n",
              "      <td>0.66380</td>\n",
              "      <td>0.20750</td>\n",
              "    </tr>\n",
              "    <tr>\n",
              "      <th>25%</th>\n",
              "      <td>13.01</td>\n",
              "      <td>21.08</td>\n",
              "      <td>84.110</td>\n",
              "      <td>515.30</td>\n",
              "      <td>0.11660</td>\n",
              "      <td>0.14720</td>\n",
              "      <td>0.1145</td>\n",
              "      <td>0.064930</td>\n",
              "      <td>0.25040</td>\n",
              "      <td>0.07146</td>\n",
              "    </tr>\n",
              "    <tr>\n",
              "      <th>75%</th>\n",
              "      <td>18.79</td>\n",
              "      <td>29.72</td>\n",
              "      <td>125.400</td>\n",
              "      <td>1084.00</td>\n",
              "      <td>0.14600</td>\n",
              "      <td>0.33910</td>\n",
              "      <td>0.3829</td>\n",
              "      <td>0.161400</td>\n",
              "      <td>0.31790</td>\n",
              "      <td>0.09208</td>\n",
              "    </tr>\n",
              "    <tr>\n",
              "      <th>IQR</th>\n",
              "      <td>5.78</td>\n",
              "      <td>8.64</td>\n",
              "      <td>41.290</td>\n",
              "      <td>568.70</td>\n",
              "      <td>0.02940</td>\n",
              "      <td>0.19190</td>\n",
              "      <td>0.2684</td>\n",
              "      <td>0.096470</td>\n",
              "      <td>0.06750</td>\n",
              "      <td>0.02062</td>\n",
              "    </tr>\n",
              "    <tr>\n",
              "      <th>Left Whisker Limit</th>\n",
              "      <td>4.34</td>\n",
              "      <td>8.12</td>\n",
              "      <td>22.175</td>\n",
              "      <td>-337.75</td>\n",
              "      <td>0.07250</td>\n",
              "      <td>-0.14065</td>\n",
              "      <td>-0.2881</td>\n",
              "      <td>-0.079775</td>\n",
              "      <td>0.14915</td>\n",
              "      <td>0.04053</td>\n",
              "    </tr>\n",
              "    <tr>\n",
              "      <th>Right Whisker Limit</th>\n",
              "      <td>27.46</td>\n",
              "      <td>42.68</td>\n",
              "      <td>187.335</td>\n",
              "      <td>1937.05</td>\n",
              "      <td>0.19010</td>\n",
              "      <td>0.62695</td>\n",
              "      <td>0.7855</td>\n",
              "      <td>0.306105</td>\n",
              "      <td>0.41915</td>\n",
              "      <td>0.12301</td>\n",
              "    </tr>\n",
              "    <tr>\n",
              "      <th>No.of Left Outliers</th>\n",
              "      <td>0.00</td>\n",
              "      <td>0.00</td>\n",
              "      <td>0.000</td>\n",
              "      <td>0.00</td>\n",
              "      <td>1.00000</td>\n",
              "      <td>0.00000</td>\n",
              "      <td>0.0000</td>\n",
              "      <td>0.000000</td>\n",
              "      <td>0.00000</td>\n",
              "      <td>0.00000</td>\n",
              "    </tr>\n",
              "    <tr>\n",
              "      <th>No.of Right Outliers</th>\n",
              "      <td>17.00</td>\n",
              "      <td>5.00</td>\n",
              "      <td>15.000</td>\n",
              "      <td>35.00</td>\n",
              "      <td>6.00000</td>\n",
              "      <td>16.00000</td>\n",
              "      <td>12.0000</td>\n",
              "      <td>0.000000</td>\n",
              "      <td>23.00000</td>\n",
              "      <td>24.00000</td>\n",
              "    </tr>\n",
              "    <tr>\n",
              "      <th>Total Outliers</th>\n",
              "      <td>17.00</td>\n",
              "      <td>5.00</td>\n",
              "      <td>15.000</td>\n",
              "      <td>35.00</td>\n",
              "      <td>7.00000</td>\n",
              "      <td>16.00000</td>\n",
              "      <td>12.0000</td>\n",
              "      <td>0.000000</td>\n",
              "      <td>23.00000</td>\n",
              "      <td>24.00000</td>\n",
              "    </tr>\n",
              "  </tbody>\n",
              "</table>\n",
              "</div>"
            ],
            "text/plain": [
              "                      radius_worst  ...  fractal_dimension_worst\n",
              "median                       14.97  ...                  0.08004\n",
              "min                           7.93  ...                  0.05504\n",
              "max                          36.04  ...                  0.20750\n",
              "25%                          13.01  ...                  0.07146\n",
              "75%                          18.79  ...                  0.09208\n",
              "IQR                           5.78  ...                  0.02062\n",
              "Left Whisker Limit            4.34  ...                  0.04053\n",
              "Right Whisker Limit          27.46  ...                  0.12301\n",
              "No.of Left Outliers           0.00  ...                  0.00000\n",
              "No.of Right Outliers         17.00  ...                 24.00000\n",
              "Total Outliers               17.00  ...                 24.00000\n",
              "\n",
              "[11 rows x 10 columns]"
            ]
          },
          "metadata": {
            "tags": []
          },
          "execution_count": 20
        }
      ]
    },
    {
      "cell_type": "markdown",
      "metadata": {
        "id": "PCyfEn2W3_Y2"
      },
      "source": [
        "## Random Visualizations for Feature Selections:"
      ]
    },
    {
      "cell_type": "markdown",
      "metadata": {
        "id": "dL0LqyXJ3_Y2"
      },
      "source": [
        "We will use this visualizations for determining whether to use pearson's correlation or spearman's correlation"
      ]
    },
    {
      "cell_type": "code",
      "metadata": {
        "trusted": true,
        "id": "erJH9Fak3_Y3"
      },
      "source": [
        "cust_palette.set_default_custom_palette([\"#f7a400\", \"#3a9efd\", \"#3e4491\", \"#292a73\", \"#1a1b4b\"])\n",
        "plot_maker = sv.Plotter()\n",
        "plot_maker.plotter(bc_df, 'radius_mean', ['texture_mean', 'perimeter_mean', 'smoothness_mean', 'concavity_mean', 'fractal_dimension_mean', 'area_mean'],\n",
        "                   ['diagnosis'], 30, 7)"
      ],
      "execution_count": 21,
      "outputs": []
    },
    {
      "cell_type": "code",
      "metadata": {
        "trusted": true,
        "id": "-Tbnp7GI3_Y3"
      },
      "source": [
        "plot_maker.plotter(bc_df, 'radius_se', ['texture_se', 'perimeter_se', 'smoothness_se', 'concavity_se', 'fractal_dimension_se', 'area_se'], ['diagnosis'], 30, 5)"
      ],
      "execution_count": 22,
      "outputs": []
    },
    {
      "cell_type": "code",
      "metadata": {
        "trusted": true,
        "id": "KweOX_Xa3_Y4"
      },
      "source": [
        "plot_maker.plotter(bc_df, 'radius_worst', ['texture_worst', 'perimeter_worst', 'area_worst', 'smoothness_worst', 'compactness_worst', 'fractal_dimension_worst'], ['diagnosis'], 30, 5)"
      ],
      "execution_count": 23,
      "outputs": []
    },
    {
      "cell_type": "code",
      "metadata": {
        "trusted": true,
        "id": "Zf-iV48e3_Y5"
      },
      "source": [
        "plot_maker.plotter(bc_df, 'radius_mean', ['radius_se', 'radius_worst', 'area_se', 'area_worst', 'perimeter_se', 'perimeter_worst'], ['diagnosis'], 30, 5)"
      ],
      "execution_count": 24,
      "outputs": []
    },
    {
      "cell_type": "markdown",
      "metadata": {
        "id": "ehxAm4Oj3_Y5"
      },
      "source": [
        "## Heatmap: (Using Pearson's Corr)"
      ]
    },
    {
      "cell_type": "code",
      "metadata": {
        "trusted": true,
        "id": "qTMadnlE3_Y5",
        "colab": {
          "base_uri": "https://localhost:8080/"
        },
        "outputId": "2b96c927-bfba-4674-f796-c35ae393f0d7"
      },
      "source": [
        "corr_matrix = bc_df.corr()\n",
        "\n",
        "fig, axs = plt.subplots(figsize=(20, 15))\n",
        "sns.heatmap(corr_matrix, annot=True)"
      ],
      "execution_count": 25,
      "outputs": [
        {
          "output_type": "execute_result",
          "data": {
            "text/plain": [
              "<matplotlib.axes._subplots.AxesSubplot at 0x7f702bd485c0>"
            ]
          },
          "metadata": {
            "tags": []
          },
          "execution_count": 25
        }
      ]
    },
    {
      "cell_type": "markdown",
      "metadata": {
        "id": "B47zfFZF3_Y6"
      },
      "source": [
        "Let's filter out the values using a threshold, it will be a lot easier for us to find strong correlations:"
      ]
    },
    {
      "cell_type": "code",
      "metadata": {
        "trusted": true,
        "id": "ecwLdunO3_Y6",
        "colab": {
          "base_uri": "https://localhost:8080/"
        },
        "outputId": "1bd47f5d-299d-4830-b6e3-5601dd2de3ce"
      },
      "source": [
        "threshold = 0.8\n",
        "cond_corr_matrix = corr_matrix[(corr_matrix > threshold) | (corr_matrix < -threshold)]\n",
        "\n",
        "fig, axs = plt.subplots(figsize=(20, 10))\n",
        "sns.heatmap(cond_corr_matrix, annot=True)"
      ],
      "execution_count": 26,
      "outputs": [
        {
          "output_type": "execute_result",
          "data": {
            "text/plain": [
              "<matplotlib.axes._subplots.AxesSubplot at 0x7f7022da49b0>"
            ]
          },
          "metadata": {
            "tags": []
          },
          "execution_count": 26
        }
      ]
    },
    {
      "cell_type": "markdown",
      "metadata": {
        "id": "_vZ5rH4v3_Y7"
      },
      "source": [
        "We can see many strong correlations from the matrix, they are:\n",
        "\n",
        "* radius_mean, perimeter_mean, area_mean, radius_worst, perimeter_worst, area_worst\n",
        "* radius_se, perimeter_se, area_se\n",
        "* compactness_mean, concavity_mean, concave points_mean\n",
        "* texture_mean, texture_worst\n",
        "<br>\n",
        "\n",
        "& many more, but, majority of the features from above are going to be removed as they have strong correlation with each other.<br>\n",
        "Hence, we can derive one feature from another, so, it is of no use to keep all the strongly correlated features."
      ]
    },
    {
      "cell_type": "markdown",
      "metadata": {
        "id": "vGlwa4mQ3_Y8"
      },
      "source": [
        "We will only keep 4 features from the above 4 points (1 for each) randomly. We will keep:\n",
        "* area_mean (It has got more correlations than radius_mean)\n",
        "* area_se\n",
        "* concave points_mean\n",
        "* texture_mean"
      ]
    },
    {
      "cell_type": "code",
      "metadata": {
        "trusted": true,
        "id": "Bnn_wmHl3_Y8",
        "colab": {
          "base_uri": "https://localhost:8080/"
        },
        "outputId": "17c23753-b7f0-4e28-b407-06b8781daf08"
      },
      "source": [
        "drop_features = ['radius_mean', 'perimeter_mean', 'radius_worst', 'perimeter_worst',\n",
        "                 'area_worst', 'radius_se', 'perimeter_se', 'compactness_mean', 'concave points_worst', 'smoothness_worst',\n",
        "                 'concavity_mean', 'compactness_worst', 'texture_worst']\n",
        "\n",
        "modified_bc_df = bc_df.drop(columns=drop_features)\n",
        "modified_corr_matrix = modified_bc_df.corr()\n",
        "\n",
        "fig, axs = plt.subplots(figsize=(20, 10))\n",
        "sns.heatmap(modified_corr_matrix, annot=True)"
      ],
      "execution_count": 27,
      "outputs": [
        {
          "output_type": "execute_result",
          "data": {
            "text/plain": [
              "<matplotlib.axes._subplots.AxesSubplot at 0x7f7022ba0ba8>"
            ]
          },
          "metadata": {
            "tags": []
          },
          "execution_count": 27
        }
      ]
    },
    {
      "cell_type": "markdown",
      "metadata": {
        "id": "sPhiiud_3_Y9"
      },
      "source": [
        "# Model-Selection:"
      ]
    },
    {
      "cell_type": "code",
      "metadata": {
        "trusted": true,
        "id": "z_Y8O4Bs3_Y9",
        "colab": {
          "base_uri": "https://localhost:8080/"
        },
        "outputId": "d7aa8ff3-48f3-4148-97df-733d60eb512a"
      },
      "source": [
        "modified_bc_df.columns"
      ],
      "execution_count": 28,
      "outputs": [
        {
          "output_type": "execute_result",
          "data": {
            "text/plain": [
              "Index(['diagnosis', 'texture_mean', 'area_mean', 'smoothness_mean',\n",
              "       'concave points_mean', 'symmetry_mean', 'fractal_dimension_mean',\n",
              "       'texture_se', 'area_se', 'smoothness_se', 'compactness_se',\n",
              "       'concavity_se', 'concave points_se', 'symmetry_se',\n",
              "       'fractal_dimension_se', 'concavity_worst', 'symmetry_worst',\n",
              "       'fractal_dimension_worst'],\n",
              "      dtype='object')"
            ]
          },
          "metadata": {
            "tags": []
          },
          "execution_count": 28
        }
      ]
    },
    {
      "cell_type": "code",
      "metadata": {
        "trusted": true,
        "id": "m2jqnZxe3_Y-"
      },
      "source": [
        "X = modified_bc_df.drop(columns='diagnosis')\n",
        "y = modified_bc_df.diagnosis\n",
        "\n",
        "X_train, X_test_cv, y_train, y_test_cv = train_test_split(X, y, test_size=0.4)\n",
        "X_val, X_test, y_val, y_test = train_test_split(X_test_cv, y_test_cv, test_size=0.5)"
      ],
      "execution_count": 29,
      "outputs": []
    },
    {
      "cell_type": "code",
      "metadata": {
        "trusted": true,
        "id": "nalXfSQg3_Y-",
        "colab": {
          "base_uri": "https://localhost:8080/"
        },
        "outputId": "bad4bf82-1d88-4dc3-b8dd-b53ab872961a"
      },
      "source": [
        "for name, x, y in (('Train', X_train, y_train), ('Validation', X_val, y_val), ('Test', X_test, y_test)):\n",
        "    print(f'{name}:')\n",
        "    print(f'Data: {x.shape}')\n",
        "    print(f'Target: {y.shape}')\n",
        "    print('')"
      ],
      "execution_count": 30,
      "outputs": [
        {
          "output_type": "stream",
          "text": [
            "Train:\n",
            "Data: (341, 17)\n",
            "Target: (341,)\n",
            "\n",
            "Validation:\n",
            "Data: (114, 17)\n",
            "Target: (114,)\n",
            "\n",
            "Test:\n",
            "Data: (114, 17)\n",
            "Target: (114,)\n",
            "\n"
          ],
          "name": "stdout"
        }
      ]
    },
    {
      "cell_type": "markdown",
      "metadata": {
        "id": "BgCS14fY3_Y_"
      },
      "source": [
        "## PCA:"
      ]
    },
    {
      "cell_type": "code",
      "metadata": {
        "trusted": true,
        "id": "ydm8oJ2A3_Y_",
        "colab": {
          "base_uri": "https://localhost:8080/"
        },
        "outputId": "2c773132-ea77-4bab-f3a2-b4b8077522fd"
      },
      "source": [
        "X_train_scaled = StandardScaler().fit_transform(X_train)\n",
        "pca = PCA()\n",
        "pca.fit(X_train_scaled)\n",
        "cumsum = np.cumsum(pca.explained_variance_ratio_)\n",
        "print(cumsum)\n",
        "\n",
        "plt.figure(figsize=(10,7))\n",
        "plt.plot(cumsum, linewidth=3)\n",
        "plt.axis([0, 30, 0, 1])\n",
        "plt.xlabel(\"n_components\")\n",
        "plt.ylabel(\"Explained Variance\")\n",
        "plt.grid(True)"
      ],
      "execution_count": 31,
      "outputs": [
        {
          "output_type": "stream",
          "text": [
            "[0.37704664 0.53639119 0.65884957 0.7456615  0.81059278 0.86692918\n",
            " 0.89634613 0.92231859 0.94127769 0.9566284  0.96895773 0.97747627\n",
            " 0.98537165 0.99235148 0.99572331 0.9983937  1.        ]\n"
          ],
          "name": "stdout"
        }
      ]
    },
    {
      "cell_type": "markdown",
      "metadata": {
        "id": "c5KFMCIP3_Y_"
      },
      "source": [
        "We can see, that for to get explained variance >= 95%, we need n_componenets >= 8"
      ]
    },
    {
      "cell_type": "markdown",
      "metadata": {
        "id": "B9nyqoL_3_ZA"
      },
      "source": [
        "## Main Pipeline:"
      ]
    },
    {
      "cell_type": "code",
      "metadata": {
        "trusted": true,
        "id": "GLlMbPa23_ZB"
      },
      "source": [
        "main_pipeline = Pipeline([\n",
        "    ('scaler', StandardScaler()),\n",
        "    ('pca', PCA()),\n",
        "    ('model', None),\n",
        "])"
      ],
      "execution_count": 32,
      "outputs": []
    },
    {
      "cell_type": "code",
      "metadata": {
        "trusted": true,
        "id": "Wuua5RAu3_ZB"
      },
      "source": [
        "rnd_state = 4\n",
        "\n",
        "params_grid = [\n",
        "    {\n",
        "        \"pca__n_components\": [8, 9, 10, 11, 12],\n",
        "        \"model\": [XGBClassifier()],\n",
        "        \"model__n_estimators\": [100, 500, 1000],\n",
        "        \"model__learning_rate\": [0.005, 0.01, 0.05, 0.1],\n",
        "        \"model__max_depth\": [3, 4, 5, 6, 10],\n",
        "        \"model__gamma\": [0, 1, 5],\n",
        "        \"model__random_state\": [rnd_state],\n",
        "    },\n",
        "    {\n",
        "        \"pca__n_components\": [8, 9, 10, 11, 12],\n",
        "        \"model\": [GradientBoostingClassifier()],\n",
        "        \"model__n_estimators\": [100, 1000],\n",
        "        \"model__learning_rate\": [0.001, 0.05, 0.1, 0.5],\n",
        "        \"model__random_state\": [rnd_state],\n",
        "    },\n",
        "    {\n",
        "        \"pca__n_components\": [8, 9, 10, 11, 12],\n",
        "        \"model\": [RandomForestClassifier()],\n",
        "        \"model__n_estimators\": [100, 1000],\n",
        "        \"model__max_depth\": [3, 4, 5, 6, 10, 15, 20],\n",
        "        \"model__random_state\": [rnd_state],\n",
        "    },\n",
        "    {\n",
        "        \"pca__n_components\": [8, 9, 10, 11, 12],\n",
        "        \"model\": [LGBMClassifier()],\n",
        "        \"model__n_estimators\": [100, 500, 1000],\n",
        "        \"model__learning_rate\": [0.005, 0.01, 0.05, 0.1],\n",
        "        \"model__max_depth\": [3, 4, 5, 6, 10, -1],\n",
        "        \"model__random_state\": [rnd_state],\n",
        "    },\n",
        "    {\n",
        "        \"pca__n_components\": [8, 9, 10, 11, 12],\n",
        "        \"model\": [CatBoostClassifier()],\n",
        "        \"model__n_estimators\": [100, 500, 1000],\n",
        "        \"model__learning_rate\": [0.005, 0.01, 0.05, 0.1],\n",
        "        \"model__max_depth\": [3, 4, 5, 6, 10],\n",
        "        \"model__random_state\": [rnd_state],\n",
        "    },\n",
        "]"
      ],
      "execution_count": 56,
      "outputs": []
    },
    {
      "cell_type": "code",
      "metadata": {
        "trusted": true,
        "id": "IxNYeZ2y3_ZB"
      },
      "source": [
        "main_grid = GridSearchCV(main_pipeline, params_grid, cv=3, verbose=2, scoring=\"accuracy\")"
      ],
      "execution_count": 57,
      "outputs": []
    },
    {
      "cell_type": "code",
      "metadata": {
        "_kg_hide-output": true,
        "trusted": true,
        "id": "qmH4x6LT3_ZB"
      },
      "source": [
        "main_grid.fit(X_train, y_train)"
      ],
      "execution_count": null,
      "outputs": []
    },
    {
      "cell_type": "code",
      "metadata": {
        "trusted": true,
        "id": "z9XFunTJ3_ZH",
        "colab": {
          "base_uri": "https://localhost:8080/"
        },
        "outputId": "700e62ff-e83b-4d52-9f61-8e4116cf2162"
      },
      "source": [
        "main_grid.best_estimator_"
      ],
      "execution_count": 59,
      "outputs": [
        {
          "output_type": "execute_result",
          "data": {
            "text/plain": [
              "Pipeline(memory=None,\n",
              "         steps=[('scaler',\n",
              "                 StandardScaler(copy=True, with_mean=True, with_std=True)),\n",
              "                ('pca',\n",
              "                 PCA(copy=True, iterated_power='auto', n_components=9,\n",
              "                     random_state=None, svd_solver='auto', tol=0.0,\n",
              "                     whiten=False)),\n",
              "                ('model',\n",
              "                 <catboost.core.CatBoostClassifier object at 0x7f70194b6160>)],\n",
              "         verbose=False)"
            ]
          },
          "metadata": {
            "tags": []
          },
          "execution_count": 59
        }
      ]
    },
    {
      "cell_type": "code",
      "metadata": {
        "trusted": true,
        "id": "7tNc4USx3_ZH",
        "colab": {
          "base_uri": "https://localhost:8080/"
        },
        "outputId": "b087e5b2-61b4-43a9-c82b-1c0484cd7588"
      },
      "source": [
        "y_pred = main_grid.best_estimator_.predict(X_val)\n",
        "print(metrics.classification_report(y_val, y_pred))\n",
        "metrics.plot_roc_curve(main_grid.best_estimator_, X_val, y_val);"
      ],
      "execution_count": 63,
      "outputs": [
        {
          "output_type": "stream",
          "text": [
            "              precision    recall  f1-score   support\n",
            "\n",
            "           B       0.93      0.94      0.93        66\n",
            "           M       0.91      0.90      0.91        48\n",
            "\n",
            "    accuracy                           0.92       114\n",
            "   macro avg       0.92      0.92      0.92       114\n",
            "weighted avg       0.92      0.92      0.92       114\n",
            "\n"
          ],
          "name": "stdout"
        },
        {
          "output_type": "stream",
          "text": [
            "/usr/local/lib/python3.6/dist-packages/sklearn/metrics/_plot/roc_curve.py:87: RuntimeWarning:\n",
            "\n",
            "More than 20 figures have been opened. Figures created through the pyplot interface (`matplotlib.pyplot.figure`) are retained until explicitly closed and may consume too much memory. (To control this warning, see the rcParam `figure.max_open_warning`).\n",
            "\n"
          ],
          "name": "stderr"
        }
      ]
    },
    {
      "cell_type": "code",
      "metadata": {
        "id": "Tw0EpP4bQNXs",
        "outputId": "5260fc20-8af5-4865-bdd7-9328dc418c4a",
        "colab": {
          "base_uri": "https://localhost:8080/"
        }
      },
      "source": [
        "conf_matrix = metrics.confusion_matrix(y_val, y_pred)\n",
        "plot_confusion_matrix(conf_mat=conf_matrix);"
      ],
      "execution_count": 64,
      "outputs": [
        {
          "output_type": "stream",
          "text": [
            "/usr/local/lib/python3.6/dist-packages/mlxtend/plotting/plot_confusion_matrix.py:61: RuntimeWarning:\n",
            "\n",
            "More than 20 figures have been opened. Figures created through the pyplot interface (`matplotlib.pyplot.figure`) are retained until explicitly closed and may consume too much memory. (To control this warning, see the rcParam `figure.max_open_warning`).\n",
            "\n"
          ],
          "name": "stderr"
        }
      ]
    },
    {
      "cell_type": "markdown",
      "metadata": {
        "id": "X_Q9Hswi3_ZI"
      },
      "source": [
        "## Trying to increase model accuracy using Soft Vote Ensembling:"
      ]
    },
    {
      "cell_type": "code",
      "metadata": {
        "trusted": true,
        "id": "JmnJpC1n3_ZH",
        "colab": {
          "base_uri": "https://localhost:8080/"
        },
        "outputId": "d88f7a03-27ef-4f4a-c6ef-938a368c2679"
      },
      "source": [
        "best_params = main_grid.best_params_\n",
        "best_params"
      ],
      "execution_count": 65,
      "outputs": [
        {
          "output_type": "execute_result",
          "data": {
            "text/plain": [
              "{'model': <catboost.core.CatBoostClassifier at 0x7f7019881f28>,\n",
              " 'model__learning_rate': 0.005,\n",
              " 'model__max_depth': 3,\n",
              " 'model__n_estimators': 1000,\n",
              " 'model__random_state': 4,\n",
              " 'pca__n_components': 9}"
            ]
          },
          "metadata": {
            "tags": []
          },
          "execution_count": 65
        }
      ]
    },
    {
      "cell_type": "code",
      "metadata": {
        "trusted": true,
        "id": "DnDHi_DH3_ZI"
      },
      "source": [
        "best_pipeline = clone(main_grid.best_estimator_)\n",
        "\n",
        "best_pipeline.fit(X_train, y_train)"
      ],
      "execution_count": null,
      "outputs": []
    },
    {
      "cell_type": "code",
      "metadata": {
        "trusted": true,
        "id": "-jWNiHw73_ZI",
        "colab": {
          "base_uri": "https://localhost:8080/"
        },
        "outputId": "31adb67e-86ac-4386-8935-d675eb2f0897"
      },
      "source": [
        "y_pred = best_pipeline.predict(X_val)\n",
        "print(metrics.classification_report(y_val, y_pred))\n",
        "metrics.plot_roc_curve(best_pipeline, X_val, y_val);"
      ],
      "execution_count": 75,
      "outputs": [
        {
          "output_type": "stream",
          "text": [
            "              precision    recall  f1-score   support\n",
            "\n",
            "           B       0.94      0.95      0.95        66\n",
            "           M       0.94      0.92      0.93        48\n",
            "\n",
            "    accuracy                           0.94       114\n",
            "   macro avg       0.94      0.94      0.94       114\n",
            "weighted avg       0.94      0.94      0.94       114\n",
            "\n"
          ],
          "name": "stdout"
        },
        {
          "output_type": "stream",
          "text": [
            "/usr/local/lib/python3.6/dist-packages/sklearn/metrics/_plot/roc_curve.py:87: RuntimeWarning:\n",
            "\n",
            "More than 20 figures have been opened. Figures created through the pyplot interface (`matplotlib.pyplot.figure`) are retained until explicitly closed and may consume too much memory. (To control this warning, see the rcParam `figure.max_open_warning`).\n",
            "\n"
          ],
          "name": "stderr"
        }
      ]
    },
    {
      "cell_type": "code",
      "metadata": {
        "trusted": true,
        "id": "D_ShnRs73_ZL",
        "outputId": "f8bc6db1-a6a5-4641-f290-43afe5ddd5e5",
        "colab": {
          "base_uri": "https://localhost:8080/"
        }
      },
      "source": [
        "conf_matrix = metrics.confusion_matrix(y_val, y_pred)\n",
        "plot_confusion_matrix(conf_mat=conf_matrix);"
      ],
      "execution_count": 76,
      "outputs": [
        {
          "output_type": "stream",
          "text": [
            "/usr/local/lib/python3.6/dist-packages/mlxtend/plotting/plot_confusion_matrix.py:61: RuntimeWarning:\n",
            "\n",
            "More than 20 figures have been opened. Figures created through the pyplot interface (`matplotlib.pyplot.figure`) are retained until explicitly closed and may consume too much memory. (To control this warning, see the rcParam `figure.max_open_warning`).\n",
            "\n"
          ],
          "name": "stderr"
        }
      ]
    },
    {
      "cell_type": "markdown",
      "metadata": {
        "id": "UpxKMvsFNvLD"
      },
      "source": [
        "Creating second CatBoostClassifier Pipeline for VotingEnsemble:"
      ]
    },
    {
      "cell_type": "code",
      "metadata": {
        "id": "zcTcZU7qRm77"
      },
      "source": [
        "second_pipeline = Pipeline([\n",
        "                (\"pca\", PCA()),\n",
        "                (\"cat\", CatBoostClassifier()),\n",
        "])"
      ],
      "execution_count": 77,
      "outputs": []
    },
    {
      "cell_type": "code",
      "metadata": {
        "id": "fPhubR-NQ5D6"
      },
      "source": [
        "second_param_grid = [\n",
        "        {\n",
        "            \"pca__n_components\": [8, 9, 10, 11, 12],\n",
        "            \"cat__n_estimators\": [100, 500, 1000],\n",
        "            \"cat__learning_rate\": [0.005, 0.01, 0.05, 0.1],\n",
        "            \"cat__max_depth\": [3, 4, 5, 6, 10],\n",
        "            \"cat__random_state\": [rnd_state],\n",
        "        }\n",
        "]"
      ],
      "execution_count": 78,
      "outputs": []
    },
    {
      "cell_type": "code",
      "metadata": {
        "id": "ljKyAwDGRxRA"
      },
      "source": [
        "main_grid_2 = GridSearchCV(second_pipeline, second_param_grid, cv=3, verbose=2, scoring='accuracy')\n",
        "main_grid_2.fit(X_train, y_train)"
      ],
      "execution_count": null,
      "outputs": []
    },
    {
      "cell_type": "code",
      "metadata": {
        "id": "0_RwptlWgWd1",
        "colab": {
          "base_uri": "https://localhost:8080/"
        },
        "outputId": "63588e87-93cf-4d08-881a-15bdcfc819e2"
      },
      "source": [
        "main_grid_2.best_estimator_"
      ],
      "execution_count": 120,
      "outputs": [
        {
          "output_type": "execute_result",
          "data": {
            "text/plain": [
              "Pipeline(memory=None,\n",
              "         steps=[('pca',\n",
              "                 PCA(copy=True, iterated_power='auto', n_components=8,\n",
              "                     random_state=None, svd_solver='auto', tol=0.0,\n",
              "                     whiten=False)),\n",
              "                ('cat',\n",
              "                 <catboost.core.CatBoostClassifier object at 0x7f7019792a90>)],\n",
              "         verbose=False)"
            ]
          },
          "metadata": {
            "tags": []
          },
          "execution_count": 120
        }
      ]
    },
    {
      "cell_type": "code",
      "metadata": {
        "id": "g9rcj51ngedE",
        "colab": {
          "base_uri": "https://localhost:8080/"
        },
        "outputId": "b86a53c5-81e9-44bd-fefe-877d4a07309c"
      },
      "source": [
        "best_params_2 = main_grid_2.best_params_\n",
        "best_params_2"
      ],
      "execution_count": 123,
      "outputs": [
        {
          "output_type": "execute_result",
          "data": {
            "text/plain": [
              "{'cat__learning_rate': 0.05,\n",
              " 'cat__max_depth': 3,\n",
              " 'cat__n_estimators': 1000,\n",
              " 'cat__random_state': 4,\n",
              " 'pca__n_components': 8}"
            ]
          },
          "metadata": {
            "tags": []
          },
          "execution_count": 123
        }
      ]
    },
    {
      "cell_type": "code",
      "metadata": {
        "id": "5GkYVkK0SSlC",
        "colab": {
          "base_uri": "https://localhost:8080/"
        },
        "outputId": "3fb218cc-7918-45a6-b92d-9e49ca403ba8"
      },
      "source": [
        "y_pred = main_grid_2.best_estimator_.predict(X_val)\n",
        "print(metrics.classification_report(y_val, y_pred))\n",
        "metrics.plot_roc_curve(main_grid_2.best_estimator_, X_val, y_val);"
      ],
      "execution_count": 82,
      "outputs": [
        {
          "output_type": "stream",
          "text": [
            "              precision    recall  f1-score   support\n",
            "\n",
            "           B       0.94      0.98      0.96        66\n",
            "           M       0.98      0.92      0.95        48\n",
            "\n",
            "    accuracy                           0.96       114\n",
            "   macro avg       0.96      0.95      0.95       114\n",
            "weighted avg       0.96      0.96      0.96       114\n",
            "\n"
          ],
          "name": "stdout"
        },
        {
          "output_type": "stream",
          "text": [
            "/usr/local/lib/python3.6/dist-packages/sklearn/metrics/_plot/roc_curve.py:87: RuntimeWarning:\n",
            "\n",
            "More than 20 figures have been opened. Figures created through the pyplot interface (`matplotlib.pyplot.figure`) are retained until explicitly closed and may consume too much memory. (To control this warning, see the rcParam `figure.max_open_warning`).\n",
            "\n"
          ],
          "name": "stderr"
        }
      ]
    },
    {
      "cell_type": "markdown",
      "metadata": {
        "id": "oHXKk9ZlgjUX"
      },
      "source": [
        "Let's combine the two estimators using Soft Voting Ensemble:"
      ]
    },
    {
      "cell_type": "code",
      "metadata": {
        "id": "LC4O24ZBhXEc"
      },
      "source": [
        "best_pipeline_2 = clone(main_grid_2.best_estimator_)"
      ],
      "execution_count": 83,
      "outputs": []
    },
    {
      "cell_type": "code",
      "metadata": {
        "id": "A5XMprSqg3Qy"
      },
      "source": [
        "softVoter = VotingClassifier(estimators=[\n",
        "        ('cat_1', best_pipeline), ('cat_2', best_pipeline_2)], voting=\"soft\")"
      ],
      "execution_count": 84,
      "outputs": []
    },
    {
      "cell_type": "code",
      "metadata": {
        "id": "fQJ21TnPh-mE"
      },
      "source": [
        "softVoter.fit(X_train, y_train)"
      ],
      "execution_count": null,
      "outputs": []
    },
    {
      "cell_type": "code",
      "metadata": {
        "id": "NeMvGZ_ViCmZ",
        "colab": {
          "base_uri": "https://localhost:8080/"
        },
        "outputId": "cd1b19b4-fc9b-4aca-ed8e-e0cfad4dc6b1"
      },
      "source": [
        "y_pred = softVoter.predict(X_val)\n",
        "print(metrics.classification_report(y_val, y_pred))\n",
        "metrics.plot_roc_curve(softVoter, X_val, y_val);"
      ],
      "execution_count": 86,
      "outputs": [
        {
          "output_type": "stream",
          "text": [
            "              precision    recall  f1-score   support\n",
            "\n",
            "           B       0.94      0.97      0.96        66\n",
            "           M       0.96      0.92      0.94        48\n",
            "\n",
            "    accuracy                           0.95       114\n",
            "   macro avg       0.95      0.94      0.95       114\n",
            "weighted avg       0.95      0.95      0.95       114\n",
            "\n"
          ],
          "name": "stdout"
        },
        {
          "output_type": "stream",
          "text": [
            "/usr/local/lib/python3.6/dist-packages/sklearn/metrics/_plot/roc_curve.py:87: RuntimeWarning:\n",
            "\n",
            "More than 20 figures have been opened. Figures created through the pyplot interface (`matplotlib.pyplot.figure`) are retained until explicitly closed and may consume too much memory. (To control this warning, see the rcParam `figure.max_open_warning`).\n",
            "\n"
          ],
          "name": "stderr"
        }
      ]
    },
    {
      "cell_type": "markdown",
      "metadata": {
        "id": "JF8T9_nEiYyT"
      },
      "source": [
        "#### We can clearly see that out of all, the classifiers - first CatBoost, second CatBoost & Soft Voting Ensemble, The one with best result is second CatBoost. So, we will use joblib to save that classifier:"
      ]
    },
    {
      "cell_type": "code",
      "metadata": {
        "id": "nEvJAfm3jpp-",
        "colab": {
          "base_uri": "https://localhost:8080/"
        },
        "outputId": "5fea9149-b037-4102-c603-107d05b56b86"
      },
      "source": [
        "from google.colab import drive\n",
        "drive.mount('/content/drive')"
      ],
      "execution_count": 87,
      "outputs": [
        {
          "output_type": "stream",
          "text": [
            "Mounted at /content/drive\n"
          ],
          "name": "stdout"
        }
      ]
    },
    {
      "cell_type": "code",
      "metadata": {
        "id": "4BSVhd9yjXo_"
      },
      "source": [
        "import joblib\n",
        "import pickle"
      ],
      "execution_count": 117,
      "outputs": []
    },
    {
      "cell_type": "code",
      "metadata": {
        "id": "C43Cf14yx0gm"
      },
      "source": [
        "pca_final = clone(best_pipeline_2.steps[0][1])\n",
        "cat_clf = clone(best_pipeline_2.steps[1][1])"
      ],
      "execution_count": 134,
      "outputs": []
    },
    {
      "cell_type": "code",
      "metadata": {
        "id": "mer23dESzMit"
      },
      "source": [
        "new_X_train = pca_final.fit_transform(X_train)\n",
        "cat_clf.fit(new_X_train, y_train)"
      ],
      "execution_count": null,
      "outputs": []
    },
    {
      "cell_type": "code",
      "metadata": {
        "id": "ZFzYynGxvn4l",
        "outputId": "01457993-0c0b-46c6-d2a7-1bad323b4494",
        "colab": {
          "base_uri": "https://localhost:8080/"
        }
      },
      "source": [
        "print(\"For test:\")\n",
        "print(metrics.classification_report(y_test, y_pred_test))\n",
        "metrics.plot_roc_curve(cat_clf, new_X_test, y_test);"
      ],
      "execution_count": 136,
      "outputs": [
        {
          "output_type": "stream",
          "text": [
            "For test:\n",
            "              precision    recall  f1-score   support\n",
            "\n",
            "           B       0.98      0.99      0.98        81\n",
            "           M       0.97      0.94      0.95        33\n",
            "\n",
            "    accuracy                           0.97       114\n",
            "   macro avg       0.97      0.96      0.97       114\n",
            "weighted avg       0.97      0.97      0.97       114\n",
            "\n"
          ],
          "name": "stdout"
        },
        {
          "output_type": "stream",
          "text": [
            "/usr/local/lib/python3.6/dist-packages/sklearn/metrics/_plot/roc_curve.py:87: RuntimeWarning:\n",
            "\n",
            "More than 20 figures have been opened. Figures created through the pyplot interface (`matplotlib.pyplot.figure`) are retained until explicitly closed and may consume too much memory. (To control this warning, see the rcParam `figure.max_open_warning`).\n",
            "\n"
          ],
          "name": "stderr"
        }
      ]
    },
    {
      "cell_type": "markdown",
      "metadata": {
        "id": "fP6x5wQb4_vJ"
      },
      "source": [
        "#### Great, we got a good result with test set. So, we will choose this model:"
      ]
    },
    {
      "cell_type": "code",
      "metadata": {
        "id": "b2VXAsj3j4lH"
      },
      "source": [
        "for estimator in (pca_final, cat_clf):\n",
        "    joblib.dump(estimator, f'/content/drive/MyDrive/{str(estimator.__class__).replace(\".\", \"_\")[8:-2]}.pkl')"
      ],
      "execution_count": null,
      "outputs": []
    },
    {
      "cell_type": "code",
      "metadata": {
        "id": "TMwGULPt323v"
      },
      "source": [
        ""
      ],
      "execution_count": null,
      "outputs": []
    }
  ]
}